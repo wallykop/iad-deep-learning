{
  "nbformat": 4,
  "nbformat_minor": 0,
  "metadata": {
    "colab": {
      "name": "Copy of Seminar6.ipynb",
      "provenance": [],
      "collapsed_sections": [],
      "include_colab_link": true
    },
    "kernelspec": {
      "name": "python3",
      "display_name": "Python 3"
    },
    "accelerator": "GPU"
  },
  "cells": [
    {
      "cell_type": "markdown",
      "metadata": {
        "id": "view-in-github",
        "colab_type": "text"
      },
      "source": [
        "<a href=\"https://colab.research.google.com/github/wallykop/iad-deep-learning/blob/master/Copy_of_Seminar6.ipynb\" target=\"_parent\"><img src=\"https://colab.research.google.com/assets/colab-badge.svg\" alt=\"Open In Colab\"/></a>"
      ]
    },
    {
      "cell_type": "markdown",
      "metadata": {
        "id": "hgGelUsnoxlW",
        "colab_type": "text"
      },
      "source": [
        "# Трюки для обучения нейронных сетей\n",
        "\n",
        "### **1. Аугментации**\n",
        "\n",
        "На практике часто оказывается, что нет достаточно большого количества размеченных данных, чтобы адекватно обучить модель, а общедоступные датасеты плохо приближают генеральную совокупность данных, возникающую в реальной задаче.\n",
        "\n",
        "Однако в таких ситуациях может оказаться полезным изменить объекты из доступной нам выборки. Например, если речь идёт о работе с изображениями, картинки — в зависимости от конкретной задачи — можно поворачивать, искривлять, накладывать дополнительные объекты, добавлять шум, менять яркость, расфокусировать и т. д.\n",
        "\n",
        "Многие из таких функций реализованы в [preprocessing.image](https://www.tensorflow.org/api_docs/python/tf/keras/preprocessing/image) из TensorFlow.\n",
        "\n",
        "Возьмём произвольный объект из датасета CIFAR-10:"
      ]
    },
    {
      "cell_type": "code",
      "metadata": {
        "id": "LC7LYkcSokgJ",
        "colab_type": "code",
        "outputId": "58f6d21c-a429-42ae-b139-be1feb30f1be",
        "colab": {
          "base_uri": "https://localhost:8080/",
          "height": 118
        }
      },
      "source": [
        "from keras.datasets import cifar10\n",
        "(x_train, y_train), (x_test, y_test) = cifar10.load_data()\n",
        "\n",
        "NUM_CLASSES = 10\n",
        "cifar10_classes = [\"airplane\", \"automobile\", \"bird\", \"cat\", \"deer\", \n",
        "                   \"dog\", \"frog\", \"horse\", \"ship\", \"truck\"]"
      ],
      "execution_count": 0,
      "outputs": [
        {
          "output_type": "stream",
          "text": [
            "Using TensorFlow backend.\n"
          ],
          "name": "stderr"
        },
        {
          "output_type": "display_data",
          "data": {
            "text/html": [
              "<p style=\"color: red;\">\n",
              "The default version of TensorFlow in Colab will soon switch to TensorFlow 2.x.<br>\n",
              "We recommend you <a href=\"https://www.tensorflow.org/guide/migrate\" target=\"_blank\">upgrade</a> now \n",
              "or ensure your notebook will continue to use TensorFlow 1.x via the <code>%tensorflow_version 1.x</code> magic:\n",
              "<a href=\"https://colab.research.google.com/notebooks/tensorflow_version.ipynb\" target=\"_blank\">more info</a>.</p>\n"
            ],
            "text/plain": [
              "<IPython.core.display.HTML object>"
            ]
          },
          "metadata": {
            "tags": []
          }
        },
        {
          "output_type": "stream",
          "text": [
            "Downloading data from https://www.cs.toronto.edu/~kriz/cifar-10-python.tar.gz\n",
            "170500096/170498071 [==============================] - 2s 0us/step\n"
          ],
          "name": "stdout"
        }
      ]
    },
    {
      "cell_type": "code",
      "metadata": {
        "id": "bDRZWvHkSF8o",
        "colab_type": "code",
        "outputId": "0ef3848c-5deb-415c-ecd7-0ed10121cb9c",
        "colab": {
          "base_uri": "https://localhost:8080/",
          "height": 281
        }
      },
      "source": [
        "import tensorflow as tf\n",
        "%matplotlib inline\n",
        "import matplotlib.pyplot as plt\n",
        "import numpy as np\n",
        "\n",
        "rand_index = np.random.randint(0, len(y_train))\n",
        "\n",
        "x_cur = x_train[rand_index,:]\n",
        "y_cur = y_train[rand_index, 0]\n",
        "\n",
        "def draw_image(x, y):\n",
        "  plt.imshow(x)\n",
        "  plt.title(cifar10_classes[y])\n",
        "  plt.show()\n",
        "  \n",
        "draw_image(x_cur, y_cur)"
      ],
      "execution_count": 0,
      "outputs": [
        {
          "output_type": "display_data",
          "data": {
            "image/png": "[encoded data removed]",
            "text/plain": [
              "<Figure size 432x288 with 1 Axes>"
            ]
          },
          "metadata": {
            "tags": []
          }
        }
      ]
    },
    {
      "cell_type": "code",
      "metadata": {
        "id": "pYJPXmIPVksI",
        "colab_type": "code",
        "outputId": "f2cc3541-3221-41fd-e7a8-d285392abe4d",
        "colab": {
          "base_uri": "https://localhost:8080/",
          "height": 281
        }
      },
      "source": [
        "x = tf.keras.preprocessing.image.apply_affine_transform(x_cur, theta=30)\n",
        "draw_image(x, y_cur)\n",
        "#Повернём картинку на 30 градусов"
      ],
      "execution_count": 0,
      "outputs": [
        {
          "output_type": "display_data",
          "data": {
            "image/png": "[encoded data removed]",
            "text/plain": [
              "<Figure size 432x288 with 1 Axes>"
            ]
          },
          "metadata": {
            "tags": []
          }
        }
      ]
    },
    {
      "cell_type": "code",
      "metadata": {
        "id": "3quPypzyZqPH",
        "colab_type": "code",
        "outputId": "97328ded-6629-472b-9c29-0672c947d1fd",
        "colab": {
          "base_uri": "https://localhost:8080/",
          "height": 281
        }
      },
      "source": [
        "x = tf.keras.preprocessing.image.apply_affine_transform(x_cur, shear=35)\n",
        "draw_image(x, y_cur)\n",
        "#Наклоним картинку на 35 градусов"
      ],
      "execution_count": 0,
      "outputs": [
        {
          "output_type": "display_data",
          "data": {
            "image/png": "[encoded data removed]",
            "text/plain": [
              "<Figure size 432x288 with 1 Axes>"
            ]
          },
          "metadata": {
            "tags": []
          }
        }
      ]
    },
    {
      "cell_type": "code",
      "metadata": {
        "id": "pNDvGZock8Qg",
        "colab_type": "code",
        "outputId": "4684fdfd-a597-431a-8471-a002794da3b9",
        "colab": {
          "base_uri": "https://localhost:8080/",
          "height": 281
        }
      },
      "source": [
        "x = tf.keras.preprocessing.image.apply_brightness_shift(x_cur, 0.5)\n",
        "draw_image(x.astype(int), y_cur)\n",
        "#уменьшим яркость"
      ],
      "execution_count": 0,
      "outputs": [
        {
          "output_type": "display_data",
          "data": {
            "image/png": "[encoded data removed]",
            "text/plain": [
              "<Figure size 432x288 with 1 Axes>"
            ]
          },
          "metadata": {
            "tags": []
          }
        }
      ]
    },
    {
      "cell_type": "markdown",
      "metadata": {
        "id": "lIS5Lcv1iIdX",
        "colab_type": "text"
      },
      "source": [
        "Попробуйте реализовать зеркальное отображение картинки относительно вертикальной оси (подсказка: в numpy есть функция для изменения порядка элементов в массиве на обратный по заданному измерению):"
      ]
    },
    {
      "cell_type": "code",
      "metadata": {
        "id": "8UpRrflymazB",
        "colab_type": "code",
        "outputId": "35548f6b-a1bf-435f-ba6a-fb7dd99cd769",
        "colab": {
          "base_uri": "https://localhost:8080/",
          "height": 281
        }
      },
      "source": [
        "def horizontal_reflect(image):\n",
        "  return np.flip(image, axis=1)\n",
        "\n",
        "draw_image(horizontal_reflect(x_cur), y_cur)"
      ],
      "execution_count": 0,
      "outputs": [
        {
          "output_type": "display_data",
          "data": {
            "image/png": "[encoded data removed]",
            "text/plain": [
              "<Figure size 432x288 with 1 Axes>"
            ]
          },
          "metadata": {
            "tags": []
          }
        }
      ]
    },
    {
      "cell_type": "markdown",
      "metadata": {
        "id": "G2QjMl7MZmz5",
        "colab_type": "text"
      },
      "source": [
        "Обучим на CIFAR-10 свёрточную нейронную сеть без аугментации (см. семинар 4)."
      ]
    },
    {
      "cell_type": "code",
      "metadata": {
        "id": "00XDnF0NoAR0",
        "colab_type": "code",
        "colab": {}
      },
      "source": [
        "x_train2 = x_train / 255 - 0.5\n",
        "x_test2 = x_test / 255 - 0.5\n",
        "\n",
        "y_train2 = tf.keras.utils.to_categorical(y_train, 10)\n",
        "y_test2 = tf.keras.utils.to_categorical(y_test, 10)\n",
        "\n",
        "from tensorflow.keras.models import Sequential\n",
        "from tensorflow.keras.layers import Conv2D, MaxPooling2D, Flatten, Dense, Activation, Dropout, LeakyReLU\n",
        "\n",
        "def make_model():\n",
        "    model = Sequential()\n",
        "    model.add(Conv2D(filters=16, padding='same', kernel_size=(3,3), input_shape=(32,32,3)))\n",
        "    model.add(LeakyReLU(0.1))\n",
        "    model.add(Conv2D(filters=32, padding='same', kernel_size=(3,3)))  \n",
        "    model.add(LeakyReLU(0.1))\n",
        "    model.add(MaxPooling2D(pool_size=(2,2), padding='same'))\n",
        "    model.add(Conv2D(filters=64, padding='same', kernel_size=(3,3)))  \n",
        "    model.add(LeakyReLU(0.1))\n",
        "    model.add(MaxPooling2D(pool_size=(2,2), padding='same')) \n",
        "    model.add(Flatten())\n",
        "    model.add(Dense(256))                \n",
        "    model.add(LeakyReLU(0.1))\n",
        "    model.add(Dense(10))             \n",
        "    model.add(Activation(\"softmax\"))\n",
        "    \n",
        "    return model"
      ],
      "execution_count": 0,
      "outputs": []
    },
    {
      "cell_type": "code",
      "metadata": {
        "id": "_kiItBmfrJ-U",
        "colab_type": "code",
        "colab": {}
      },
      "source": [
        "def reset_tf_session():\n",
        "    curr_session = tf.get_default_session()\n",
        "    if curr_session is not None:\n",
        "        curr_session.close()\n",
        "    tf.keras.backend.clear_session()\n",
        "    config = tf.ConfigProto()\n",
        "    config.gpu_options.allow_growth = True\n",
        "    s = tf.InteractiveSession(config=config)\n",
        "    tf.keras.backend.set_session(s)\n",
        "    return s"
      ],
      "execution_count": 0,
      "outputs": []
    },
    {
      "cell_type": "code",
      "metadata": {
        "id": "xkqaychOpe1R",
        "colab_type": "code",
        "outputId": "605105f0-c55a-478a-f296-edb54e81515e",
        "colab": {
          "base_uri": "https://localhost:8080/",
          "height": 469
        }
      },
      "source": [
        "def train_model(x_train, y_train, x_test, y_test, make_model):\n",
        "  s = reset_tf_session()\n",
        "  model = make_model()\n",
        "  INIT_LR = 5e-3\n",
        "  BATCH_SIZE = 32\n",
        "  EPOCHS = 10\n",
        "  model.compile(\n",
        "      loss='categorical_crossentropy',\n",
        "      optimizer=tf.keras.optimizers.Adam(lr=INIT_LR),\n",
        "      metrics=['accuracy']\n",
        "  )\n",
        "\n",
        "  def lr_scheduler(epoch):\n",
        "      return INIT_LR * 0.9 ** epoch\n",
        "  \n",
        "  model.fit(\n",
        "      x_train, y_train,\n",
        "      batch_size=BATCH_SIZE,\n",
        "      epochs=EPOCHS,\n",
        "      callbacks=[tf.keras.callbacks.LearningRateScheduler(lr_scheduler)],\n",
        "      validation_data=(x_test, y_test),\n",
        "      shuffle=True,\n",
        "      verbose=1,\n",
        "      initial_epoch=0\n",
        "  )\n",
        "  \n",
        "train_model(x_train2, y_train2, x_test2, y_test2, make_model)\n",
        "\n"
      ],
      "execution_count": 0,
      "outputs": [
        {
          "output_type": "stream",
          "text": [
            "WARNING:tensorflow:From /usr/local/lib/python3.6/dist-packages/tensorflow_core/python/ops/resource_variable_ops.py:1630: calling BaseResourceVariable.__init__ (from tensorflow.python.ops.resource_variable_ops) with constraint is deprecated and will be removed in a future version.\n",
            "Instructions for updating:\n",
            "If using Keras pass *_constraint arguments to layers.\n",
            "Train on 50000 samples, validate on 10000 samples\n",
            "Epoch 1/10\n",
            "50000/50000 [==============================] - 22s 439us/sample - loss: 1.2798 - acc: 0.5471 - val_loss: 1.0573 - val_acc: 0.6328\n",
            "Epoch 2/10\n",
            "50000/50000 [==============================] - 18s 361us/sample - loss: 0.9298 - acc: 0.6783 - val_loss: 0.9271 - val_acc: 0.6879\n",
            "Epoch 3/10\n",
            "50000/50000 [==============================] - 18s 359us/sample - loss: 0.7474 - acc: 0.7440 - val_loss: 1.0189 - val_acc: 0.6768\n",
            "Epoch 4/10\n",
            "50000/50000 [==============================] - 17s 331us/sample - loss: 0.5885 - acc: 0.7986 - val_loss: 1.0113 - val_acc: 0.7135\n",
            "Epoch 5/10\n",
            "50000/50000 [==============================] - 18s 353us/sample - loss: 0.4390 - acc: 0.8496 - val_loss: 1.0840 - val_acc: 0.7116\n",
            "Epoch 6/10\n",
            "50000/50000 [==============================] - 18s 365us/sample - loss: 0.3193 - acc: 0.8907 - val_loss: 1.1684 - val_acc: 0.7214\n",
            "Epoch 7/10\n",
            "50000/50000 [==============================] - 18s 363us/sample - loss: 0.2195 - acc: 0.9251 - val_loss: 1.4454 - val_acc: 0.7199\n",
            "Epoch 8/10\n",
            "50000/50000 [==============================] - 17s 348us/sample - loss: 0.1748 - acc: 0.9420 - val_loss: 1.7519 - val_acc: 0.7181\n",
            "Epoch 9/10\n",
            "50000/50000 [==============================] - 18s 362us/sample - loss: 0.1191 - acc: 0.9607 - val_loss: 2.0877 - val_acc: 0.7036\n",
            "Epoch 10/10\n",
            "50000/50000 [==============================] - 18s 360us/sample - loss: 0.0881 - acc: 0.9718 - val_loss: 2.3502 - val_acc: 0.7120\n"
          ],
          "name": "stdout"
        }
      ]
    },
    {
      "cell_type": "markdown",
      "metadata": {
        "id": "dMp-gWprw63D",
        "colab_type": "text"
      },
      "source": [
        "Добавим аугментацию, используя ImageDataGenerator из preprocessing.image."
      ]
    },
    {
      "cell_type": "code",
      "metadata": {
        "id": "ollyZq5vxDcg",
        "colab_type": "code",
        "outputId": "f8c56e56-71b7-4804-c510-ba4ddb4b6916",
        "colab": {
          "base_uri": "https://localhost:8080/",
          "height": 757
        }
      },
      "source": [
        "from tensorflow.keras.preprocessing.image import ImageDataGenerator\n",
        "\n",
        "#datagen = ImageDataGenerator(\n",
        "#    horizontal_flip=True,\n",
        "#    vertical_flip = True,\n",
        "#    rotation_range=20,\n",
        "#\t\tzoom_range=0.15,\n",
        "#\t\twidth_shift_range=0.2,\n",
        "#\t\theight_shift_range=0.2,\n",
        "#\t\tshear_range=0.15\n",
        "#)\n",
        "\n",
        "datagen = ImageDataGenerator(\n",
        "    horizontal_flip = True,\n",
        "    width_shift_range = 0.1,\n",
        "    vertical_flip = True,\n",
        "    height_shift_range = 0.1 \n",
        ")\n",
        "\n",
        "datagen.fit(x_train2)\n",
        "\n",
        "BATCH_SIZE = 32\n",
        "\n",
        "def train_gen_model(train_gen, x_test, y_test, make_model):\n",
        "  s = reset_tf_session()\n",
        "  model = make_model()\n",
        "  INIT_LR = 5e-3\n",
        "  EPOCHS = 10\n",
        "  model.compile(\n",
        "      loss='categorical_crossentropy',\n",
        "      optimizer=tf.keras.optimizers.Adam(lr=INIT_LR),\n",
        "      metrics=['accuracy']\n",
        "  )\n",
        "\n",
        "  def lr_scheduler(epoch):\n",
        "      return INIT_LR * 0.9 ** epoch\n",
        "  \n",
        "  model.fit_generator(\n",
        "      train_gen,\n",
        "      steps_per_epoch = len(x_train) / BATCH_SIZE,\n",
        "      epochs=EPOCHS,\n",
        "      callbacks=[tf.keras.callbacks.LearningRateScheduler(lr_scheduler)],\n",
        "      validation_data=(x_test, y_test),\n",
        "      shuffle=True,\n",
        "      verbose=1,\n",
        "      initial_epoch=0\n",
        "  )\n",
        "  \n",
        "train_gen_model(datagen.flow(x_train2, y_train2, batch_size=BATCH_SIZE), x_test2, y_test2, make_model)\n",
        "\n"
      ],
      "execution_count": 0,
      "outputs": [
        {
          "output_type": "stream",
          "text": [
            "Epoch 1/10\n",
            "1562/1562 [============================>.] - ETA: 0s - loss: 1.6029 - acc: 0.4154Epoch 1/10\n",
            "10000/1562 [================================================================================================================================================================================================] - 3s 256us/sample - loss: 1.5284 - acc: 0.5223\n",
            "1563/1562 [==============================] - 44s 28ms/step - loss: 1.6028 - acc: 0.4154 - val_loss: 1.3811 - val_acc: 0.5223\n",
            "Epoch 2/10\n",
            "1562/1562 [============================>.] - ETA: 0s - loss: 1.3214 - acc: 0.5285Epoch 1/10\n",
            "10000/1562 [================================================================================================================================================================================================] - 2s 211us/sample - loss: 1.1709 - acc: 0.5754\n",
            "1563/1562 [==============================] - 43s 27ms/step - loss: 1.3216 - acc: 0.5284 - val_loss: 1.2374 - val_acc: 0.5754\n",
            "Epoch 3/10\n",
            "1561/1562 [============================>.] - ETA: 0s - loss: 1.2083 - acc: 0.5720Epoch 1/10\n",
            "10000/1562 [================================================================================================================================================================================================] - 2s 225us/sample - loss: 1.1637 - acc: 0.6067\n",
            "1563/1562 [==============================] - 43s 27ms/step - loss: 1.2082 - acc: 0.5719 - val_loss: 1.1214 - val_acc: 0.6067\n",
            "Epoch 4/10\n",
            "1562/1562 [============================>.] - ETA: 0s - loss: 1.1250 - acc: 0.6023Epoch 1/10\n",
            "10000/1562 [================================================================================================================================================================================================] - 2s 218us/sample - loss: 1.3420 - acc: 0.6311\n",
            "1563/1562 [==============================] - 42s 27ms/step - loss: 1.1251 - acc: 0.6023 - val_loss: 1.0988 - val_acc: 0.6311\n",
            "Epoch 5/10\n",
            "1560/1562 [============================>.] - ETA: 0s - loss: 1.0755 - acc: 0.6216Epoch 1/10\n",
            "10000/1562 [================================================================================================================================================================================================] - 2s 223us/sample - loss: 1.0934 - acc: 0.6392\n",
            "1563/1562 [==============================] - 43s 27ms/step - loss: 1.0757 - acc: 0.6214 - val_loss: 1.0668 - val_acc: 0.6392\n",
            "Epoch 6/10\n",
            "1561/1562 [============================>.] - ETA: 0s - loss: 1.0169 - acc: 0.6443Epoch 1/10\n",
            "10000/1562 [================================================================================================================================================================================================] - 2s 219us/sample - loss: 1.1275 - acc: 0.6389\n",
            "1563/1562 [==============================] - 42s 27ms/step - loss: 1.0168 - acc: 0.6444 - val_loss: 1.0912 - val_acc: 0.6389\n",
            "Epoch 7/10\n",
            "1562/1562 [============================>.] - ETA: 0s - loss: 0.9734 - acc: 0.6575Epoch 1/10\n",
            "10000/1562 [================================================================================================================================================================================================] - 2s 212us/sample - loss: 1.0131 - acc: 0.6820\n",
            "1563/1562 [==============================] - 43s 27ms/step - loss: 0.9733 - acc: 0.6575 - val_loss: 0.9480 - val_acc: 0.6820\n",
            "Epoch 8/10\n",
            "1561/1562 [============================>.] - ETA: 0s - loss: 0.9295 - acc: 0.6732Epoch 1/10\n",
            "10000/1562 [================================================================================================================================================================================================] - 2s 217us/sample - loss: 1.0187 - acc: 0.6852\n",
            "1563/1562 [==============================] - 43s 27ms/step - loss: 0.9296 - acc: 0.6732 - val_loss: 0.9273 - val_acc: 0.6852\n",
            "Epoch 9/10\n",
            "1561/1562 [============================>.] - ETA: 0s - loss: 0.8919 - acc: 0.6861Epoch 1/10\n",
            "10000/1562 [================================================================================================================================================================================================] - 2s 220us/sample - loss: 1.1677 - acc: 0.6887\n",
            "1563/1562 [==============================] - 43s 27ms/step - loss: 0.8918 - acc: 0.6861 - val_loss: 0.9064 - val_acc: 0.6887\n",
            "Epoch 10/10\n",
            "1561/1562 [============================>.] - ETA: 0s - loss: 0.8597 - acc: 0.6987Epoch 1/10\n",
            "10000/1562 [================================================================================================================================================================================================] - 2s 247us/sample - loss: 1.0945 - acc: 0.6956\n",
            "1563/1562 [==============================] - 43s 27ms/step - loss: 0.8596 - acc: 0.6988 - val_loss: 0.9165 - val_acc: 0.6956\n"
          ],
          "name": "stdout"
        }
      ]
    },
    {
      "cell_type": "markdown",
      "metadata": {
        "id": "tJc859FrBFA6",
        "colab_type": "text"
      },
      "source": [
        "Обратите внимание, что происходит с loss и accuracy на валидации. Сравните с предыдущим результатом."
      ]
    },
    {
      "cell_type": "markdown",
      "metadata": {
        "id": "Z8VM2orWou45",
        "colab_type": "text"
      },
      "source": [
        "### **2. Dropout**\n",
        "\n"
      ]
    },
    {
      "cell_type": "markdown",
      "metadata": {
        "id": "kJJd7ME8BM9a",
        "colab_type": "text"
      },
      "source": [
        "При обучении моделей из предыдущего пункта можно заметить, что после нескольких эпох функция потерь на тестовой выборке начинает расти (при использовании аугментации это происходит позже; как вы думаете, почему?), то есть происходит переобучение. Чтобы избежать этой проблемы, существуют различные методы, например, [Dropout](https://http://jmlr.org/papers/v15/srivastava14a.html).\n",
        "\n",
        "Идея метода заключается в том, чтобы при обучении случайно исключать из некоторых слоёв часть нейронов. Предполагается, что это уменьшит \"совместную адаптацию\" (когда одни нейроны обучаются исправлять ошибки других) и позволит избежать переобучения.\n",
        "\n",
        "Добавим в нашу модель слои Dropout."
      ]
    },
    {
      "cell_type": "code",
      "metadata": {
        "id": "OyMyWgFdp64R",
        "colab_type": "code",
        "outputId": "70abdab5-4006-49dc-ff6a-19c631447650",
        "colab": {
          "base_uri": "https://localhost:8080/",
          "height": 395
        }
      },
      "source": [
        "def make_dropout_model():\n",
        "    model = Sequential()\n",
        "    model.add(Conv2D(filters=16, padding='same', kernel_size=(3,3), input_shape=(32,32,3)))\n",
        "    model.add(LeakyReLU(0.1))\n",
        "    model.add(Dropout(0.2))\n",
        "    model.add(Conv2D(filters=32, padding='same', kernel_size=(3,3)))  \n",
        "    model.add(LeakyReLU(0.1))\n",
        "    model.add(MaxPooling2D(pool_size=(2,2), padding='same'))\n",
        "    model.add(Dropout(0.2))\n",
        "    model.add(Conv2D(filters=64, padding='same', kernel_size=(3,3)))  \n",
        "    model.add(LeakyReLU(0.1))\n",
        "    model.add(MaxPooling2D(pool_size=(2,2), padding='same')) \n",
        "    model.add(Flatten())\n",
        "    model.add(Dropout(0.2))\n",
        "    model.add(Dense(256))                \n",
        "    model.add(LeakyReLU(0.1))\n",
        "    model.add(Dropout(0.2))\n",
        "    model.add(Dense(10))             \n",
        "    model.add(Activation(\"softmax\"))\n",
        "    #YOUR CODE HERE\n",
        "    #используйте модель из make_model и добавьте между её слоями слои Dropout(p), где p - вероятность исключения одного нейрона\n",
        "   \n",
        "    return model\n",
        "  \n",
        "train_model(x_train2, y_train2, x_test2, y_test2, make_dropout_model)"
      ],
      "execution_count": 0,
      "outputs": [
        {
          "output_type": "stream",
          "text": [
            "Train on 50000 samples, validate on 10000 samples\n",
            "Epoch 1/10\n",
            "50000/50000 [==============================] - 19s 381us/sample - loss: 1.4188 - acc: 0.4991 - val_loss: 1.1267 - val_acc: 0.6214\n",
            "Epoch 2/10\n",
            "50000/50000 [==============================] - 19s 376us/sample - loss: 1.1623 - acc: 0.5978 - val_loss: 1.0300 - val_acc: 0.6381\n",
            "Epoch 3/10\n",
            "50000/50000 [==============================] - 19s 372us/sample - loss: 1.0527 - acc: 0.6366 - val_loss: 0.9514 - val_acc: 0.6757\n",
            "Epoch 4/10\n",
            "50000/50000 [==============================] - 19s 383us/sample - loss: 0.9805 - acc: 0.6620 - val_loss: 0.9827 - val_acc: 0.6648\n",
            "Epoch 5/10\n",
            "50000/50000 [==============================] - 19s 383us/sample - loss: 0.9039 - acc: 0.6891 - val_loss: 0.8894 - val_acc: 0.6915\n",
            "Epoch 6/10\n",
            "50000/50000 [==============================] - 19s 387us/sample - loss: 0.8344 - acc: 0.7105 - val_loss: 0.8573 - val_acc: 0.7185\n",
            "Epoch 7/10\n",
            "50000/50000 [==============================] - 18s 368us/sample - loss: 0.7731 - acc: 0.7323 - val_loss: 0.8277 - val_acc: 0.7169\n",
            "Epoch 8/10\n",
            "50000/50000 [==============================] - 19s 380us/sample - loss: 0.7129 - acc: 0.7521 - val_loss: 0.7607 - val_acc: 0.7419\n",
            "Epoch 9/10\n",
            "50000/50000 [==============================] - 18s 365us/sample - loss: 0.6612 - acc: 0.7720 - val_loss: 0.7769 - val_acc: 0.7394\n",
            "Epoch 10/10\n",
            "50000/50000 [==============================] - 19s 383us/sample - loss: 0.6101 - acc: 0.7876 - val_loss: 0.7399 - val_acc: 0.7508\n"
          ],
          "name": "stdout"
        }
      ]
    },
    {
      "cell_type": "markdown",
      "metadata": {
        "id": "ElUftz9jrF7j",
        "colab_type": "text"
      },
      "source": [
        "Попробуйте поменять параметр Dropout. Как это влияет на результат?"
      ]
    },
    {
      "cell_type": "markdown",
      "metadata": {
        "id": "fCJeSkblrM8R",
        "colab_type": "text"
      },
      "source": [
        "### **3. Batch-нормализация**"
      ]
    },
    {
      "cell_type": "markdown",
      "metadata": {
        "id": "MuiH_dHjsJsD",
        "colab_type": "text"
      },
      "source": [
        "Как вы наверняка помните, нейронным сетям легче обучаться на нормализованных данных, однако после прохождения через несколько слоёв сети матожидание и дисперсия сигнала, попадающего на вход слежующим слоям, могут значительно искажаться и таким образом вносить несоответствие в градиенты разных слоёв.\n",
        "\n",
        "Метод [Batch normalization](https://arxiv.org/abs/1502.03167) предлагает нормализовать данные не только на входе, но и внутри сети.\n",
        "\n",
        "Добавим в модель слои BatchNormalization."
      ]
    },
    {
      "cell_type": "code",
      "metadata": {
        "id": "CfEBgqh_sIvc",
        "colab_type": "code",
        "outputId": "e8d87876-bd38-40fd-90b1-a043be8a902d",
        "colab": {
          "base_uri": "https://localhost:8080/",
          "height": 590
        }
      },
      "source": [
        "from tensorflow.keras.layers import BatchNormalization\n",
        "\n",
        "def make_batchnorm_model():\n",
        "    model = Sequential()\n",
        "    model.add(Conv2D(filters=16, padding='same', kernel_size=(3,3), input_shape=(32,32,3)))\n",
        "    model.add(LeakyReLU(0.1))\n",
        "    model.add(BatchNormalization())\n",
        "    model.add(Conv2D(filters=32, padding='same', kernel_size=(3,3)))  \n",
        "    model.add(LeakyReLU(0.1))\n",
        "    model.add(BatchNormalization()) \n",
        "    model.add(MaxPooling2D(pool_size=(2,2), padding='same'))\n",
        "    model.add(Conv2D(filters=64, padding='same', kernel_size=(3,3)))  \n",
        "    model.add(LeakyReLU(0.1))\n",
        "    model.add(BatchNormalization())\n",
        "    model.add(MaxPooling2D(pool_size=(2,2), padding='same')) \n",
        "    model.add(Flatten())\n",
        "    model.add(Dense(256))                \n",
        "    model.add(LeakyReLU(0.1))\n",
        "    model.add(BatchNormalization())\n",
        "    model.add(Dense(10))             \n",
        "    model.add(Activation(\"softmax\"))\n",
        "    #YOUR CODE HERE\n",
        "    #используйте модель из make_model и добавьте между её слоями слои BatchNormalization()\n",
        "    \n",
        "    return model\n",
        "  \n",
        "train_model(x_train2, y_train2, x_test2, y_test2, make_batchnorm_model)"
      ],
      "execution_count": 0,
      "outputs": [
        {
          "output_type": "stream",
          "text": [
            "Train on 50000 samples, validate on 10000 samples\n",
            "Epoch 1/10\n",
            "50000/50000 [==============================] - 26s 510us/sample - loss: 1.1869 - acc: 0.5870 - val_loss: 0.9440 - val_acc: 0.6773\n",
            "Epoch 2/10\n",
            "50000/50000 [==============================] - 25s 491us/sample - loss: 0.7824 - acc: 0.7289 - val_loss: 0.7855 - val_acc: 0.7334\n",
            "Epoch 3/10\n",
            "50000/50000 [==============================] - 26s 518us/sample - loss: 0.6287 - acc: 0.7821 - val_loss: 0.7378 - val_acc: 0.7521\n",
            "Epoch 4/10\n",
            "50000/50000 [==============================] - 25s 493us/sample - loss: 0.4864 - acc: 0.8293 - val_loss: 0.7984 - val_acc: 0.7363\n",
            "Epoch 5/10\n",
            "50000/50000 [==============================] - 25s 508us/sample - loss: 0.3602 - acc: 0.8744 - val_loss: 0.8402 - val_acc: 0.7541\n",
            "Epoch 6/10\n",
            "  288/50000 [..............................] - ETA: 22s - loss: 0.1987 - acc: 0.9167"
          ],
          "name": "stdout"
        },
        {
          "output_type": "error",
          "ename": "KeyboardInterrupt",
          "evalue": "ignored",
          "traceback": [
            "\u001b[0;31m---------------------------------------------------------------------------\u001b[0m",
            "\u001b[0;31mKeyboardInterrupt\u001b[0m                         Traceback (most recent call last)",
            "\u001b[0;32m<ipython-input-26-59b7ac94a0b8>\u001b[0m in \u001b[0;36m<module>\u001b[0;34m()\u001b[0m\n\u001b[1;32m     25\u001b[0m     \u001b[0;32mreturn\u001b[0m \u001b[0mmodel\u001b[0m\u001b[0;34m\u001b[0m\u001b[0;34m\u001b[0m\u001b[0m\n\u001b[1;32m     26\u001b[0m \u001b[0;34m\u001b[0m\u001b[0m\n\u001b[0;32m---> 27\u001b[0;31m \u001b[0mtrain_model\u001b[0m\u001b[0;34m(\u001b[0m\u001b[0mx_train2\u001b[0m\u001b[0;34m,\u001b[0m \u001b[0my_train2\u001b[0m\u001b[0;34m,\u001b[0m \u001b[0mx_test2\u001b[0m\u001b[0;34m,\u001b[0m \u001b[0my_test2\u001b[0m\u001b[0;34m,\u001b[0m \u001b[0mmake_batchnorm_model\u001b[0m\u001b[0;34m)\u001b[0m\u001b[0;34m\u001b[0m\u001b[0;34m\u001b[0m\u001b[0m\n\u001b[0m",
            "\u001b[0;32m<ipython-input-12-ad316a630349>\u001b[0m in \u001b[0;36mtrain_model\u001b[0;34m(x_train, y_train, x_test, y_test, make_model)\u001b[0m\n\u001b[1;32m     22\u001b[0m       \u001b[0mshuffle\u001b[0m\u001b[0;34m=\u001b[0m\u001b[0;32mTrue\u001b[0m\u001b[0;34m,\u001b[0m\u001b[0;34m\u001b[0m\u001b[0;34m\u001b[0m\u001b[0m\n\u001b[1;32m     23\u001b[0m       \u001b[0mverbose\u001b[0m\u001b[0;34m=\u001b[0m\u001b[0;36m1\u001b[0m\u001b[0;34m,\u001b[0m\u001b[0;34m\u001b[0m\u001b[0;34m\u001b[0m\u001b[0m\n\u001b[0;32m---> 24\u001b[0;31m       \u001b[0minitial_epoch\u001b[0m\u001b[0;34m=\u001b[0m\u001b[0;36m0\u001b[0m\u001b[0;34m\u001b[0m\u001b[0;34m\u001b[0m\u001b[0m\n\u001b[0m\u001b[1;32m     25\u001b[0m   )\n\u001b[1;32m     26\u001b[0m \u001b[0;34m\u001b[0m\u001b[0m\n",
            "\u001b[0;32m/usr/local/lib/python3.6/dist-packages/tensorflow_core/python/keras/engine/training.py\u001b[0m in \u001b[0;36mfit\u001b[0;34m(self, x, y, batch_size, epochs, verbose, callbacks, validation_split, validation_data, shuffle, class_weight, sample_weight, initial_epoch, steps_per_epoch, validation_steps, validation_freq, max_queue_size, workers, use_multiprocessing, **kwargs)\u001b[0m\n\u001b[1;32m    725\u001b[0m         \u001b[0mmax_queue_size\u001b[0m\u001b[0;34m=\u001b[0m\u001b[0mmax_queue_size\u001b[0m\u001b[0;34m,\u001b[0m\u001b[0;34m\u001b[0m\u001b[0;34m\u001b[0m\u001b[0m\n\u001b[1;32m    726\u001b[0m         \u001b[0mworkers\u001b[0m\u001b[0;34m=\u001b[0m\u001b[0mworkers\u001b[0m\u001b[0;34m,\u001b[0m\u001b[0;34m\u001b[0m\u001b[0;34m\u001b[0m\u001b[0m\n\u001b[0;32m--> 727\u001b[0;31m         use_multiprocessing=use_multiprocessing)\n\u001b[0m\u001b[1;32m    728\u001b[0m \u001b[0;34m\u001b[0m\u001b[0m\n\u001b[1;32m    729\u001b[0m   def evaluate(self,\n",
            "\u001b[0;32m/usr/local/lib/python3.6/dist-packages/tensorflow_core/python/keras/engine/training_arrays.py\u001b[0m in \u001b[0;36mfit\u001b[0;34m(self, model, x, y, batch_size, epochs, verbose, callbacks, validation_split, validation_data, shuffle, class_weight, sample_weight, initial_epoch, steps_per_epoch, validation_steps, validation_freq, **kwargs)\u001b[0m\n\u001b[1;32m    673\u001b[0m         \u001b[0mvalidation_steps\u001b[0m\u001b[0;34m=\u001b[0m\u001b[0mvalidation_steps\u001b[0m\u001b[0;34m,\u001b[0m\u001b[0;34m\u001b[0m\u001b[0;34m\u001b[0m\u001b[0m\n\u001b[1;32m    674\u001b[0m         \u001b[0mvalidation_freq\u001b[0m\u001b[0;34m=\u001b[0m\u001b[0mvalidation_freq\u001b[0m\u001b[0;34m,\u001b[0m\u001b[0;34m\u001b[0m\u001b[0;34m\u001b[0m\u001b[0m\n\u001b[0;32m--> 675\u001b[0;31m         steps_name='steps_per_epoch')\n\u001b[0m\u001b[1;32m    676\u001b[0m \u001b[0;34m\u001b[0m\u001b[0m\n\u001b[1;32m    677\u001b[0m   def evaluate(self,\n",
            "\u001b[0;32m/usr/local/lib/python3.6/dist-packages/tensorflow_core/python/keras/engine/training_arrays.py\u001b[0m in \u001b[0;36mmodel_iteration\u001b[0;34m(model, inputs, targets, sample_weights, batch_size, epochs, verbose, callbacks, val_inputs, val_targets, val_sample_weights, shuffle, initial_epoch, steps_per_epoch, validation_steps, validation_freq, mode, validation_in_fit, prepared_feed_values_from_dataset, steps_name, **kwargs)\u001b[0m\n\u001b[1;32m    392\u001b[0m \u001b[0;34m\u001b[0m\u001b[0m\n\u001b[1;32m    393\u001b[0m         \u001b[0;31m# Get outputs.\u001b[0m\u001b[0;34m\u001b[0m\u001b[0;34m\u001b[0m\u001b[0;34m\u001b[0m\u001b[0m\n\u001b[0;32m--> 394\u001b[0;31m         \u001b[0mbatch_outs\u001b[0m \u001b[0;34m=\u001b[0m \u001b[0mf\u001b[0m\u001b[0;34m(\u001b[0m\u001b[0mins_batch\u001b[0m\u001b[0;34m)\u001b[0m\u001b[0;34m\u001b[0m\u001b[0;34m\u001b[0m\u001b[0m\n\u001b[0m\u001b[1;32m    395\u001b[0m         \u001b[0;32mif\u001b[0m \u001b[0;32mnot\u001b[0m \u001b[0misinstance\u001b[0m\u001b[0;34m(\u001b[0m\u001b[0mbatch_outs\u001b[0m\u001b[0;34m,\u001b[0m \u001b[0mlist\u001b[0m\u001b[0;34m)\u001b[0m\u001b[0;34m:\u001b[0m\u001b[0;34m\u001b[0m\u001b[0;34m\u001b[0m\u001b[0m\n\u001b[1;32m    396\u001b[0m           \u001b[0mbatch_outs\u001b[0m \u001b[0;34m=\u001b[0m \u001b[0;34m[\u001b[0m\u001b[0mbatch_outs\u001b[0m\u001b[0;34m]\u001b[0m\u001b[0;34m\u001b[0m\u001b[0;34m\u001b[0m\u001b[0m\n",
            "\u001b[0;32m/usr/local/lib/python3.6/dist-packages/tensorflow_core/python/keras/backend.py\u001b[0m in \u001b[0;36m__call__\u001b[0;34m(self, inputs)\u001b[0m\n\u001b[1;32m   3474\u001b[0m \u001b[0;34m\u001b[0m\u001b[0m\n\u001b[1;32m   3475\u001b[0m     fetched = self._callable_fn(*array_vals,\n\u001b[0;32m-> 3476\u001b[0;31m                                 run_metadata=self.run_metadata)\n\u001b[0m\u001b[1;32m   3477\u001b[0m     \u001b[0mself\u001b[0m\u001b[0;34m.\u001b[0m\u001b[0m_call_fetch_callbacks\u001b[0m\u001b[0;34m(\u001b[0m\u001b[0mfetched\u001b[0m\u001b[0;34m[\u001b[0m\u001b[0;34m-\u001b[0m\u001b[0mlen\u001b[0m\u001b[0;34m(\u001b[0m\u001b[0mself\u001b[0m\u001b[0;34m.\u001b[0m\u001b[0m_fetches\u001b[0m\u001b[0;34m)\u001b[0m\u001b[0;34m:\u001b[0m\u001b[0;34m]\u001b[0m\u001b[0;34m)\u001b[0m\u001b[0;34m\u001b[0m\u001b[0;34m\u001b[0m\u001b[0m\n\u001b[1;32m   3478\u001b[0m     output_structure = nest.pack_sequence_as(\n",
            "\u001b[0;32m/usr/local/lib/python3.6/dist-packages/tensorflow_core/python/client/session.py\u001b[0m in \u001b[0;36m__call__\u001b[0;34m(self, *args, **kwargs)\u001b[0m\n\u001b[1;32m   1470\u001b[0m         ret = tf_session.TF_SessionRunCallable(self._session._session,\n\u001b[1;32m   1471\u001b[0m                                                \u001b[0mself\u001b[0m\u001b[0;34m.\u001b[0m\u001b[0m_handle\u001b[0m\u001b[0;34m,\u001b[0m \u001b[0margs\u001b[0m\u001b[0;34m,\u001b[0m\u001b[0;34m\u001b[0m\u001b[0;34m\u001b[0m\u001b[0m\n\u001b[0;32m-> 1472\u001b[0;31m                                                run_metadata_ptr)\n\u001b[0m\u001b[1;32m   1473\u001b[0m         \u001b[0;32mif\u001b[0m \u001b[0mrun_metadata\u001b[0m\u001b[0;34m:\u001b[0m\u001b[0;34m\u001b[0m\u001b[0;34m\u001b[0m\u001b[0m\n\u001b[1;32m   1474\u001b[0m           \u001b[0mproto_data\u001b[0m \u001b[0;34m=\u001b[0m \u001b[0mtf_session\u001b[0m\u001b[0;34m.\u001b[0m\u001b[0mTF_GetBuffer\u001b[0m\u001b[0;34m(\u001b[0m\u001b[0mrun_metadata_ptr\u001b[0m\u001b[0;34m)\u001b[0m\u001b[0;34m\u001b[0m\u001b[0;34m\u001b[0m\u001b[0m\n",
            "\u001b[0;31mKeyboardInterrupt\u001b[0m: "
          ]
        }
      ]
    },
    {
      "cell_type": "markdown",
      "metadata": {
        "id": "_AA--BiNvNuq",
        "colab_type": "text"
      },
      "source": [
        "### **4. L2 - регуляризация**"
      ]
    },
    {
      "cell_type": "markdown",
      "metadata": {
        "id": "gklK3QjDvZQf",
        "colab_type": "text"
      },
      "source": [
        "Так же, как в случае других моделей машинного обучения, нейронные сети можно штрафовать за слишком большие веса, добавляя к функции потерь норму весов с некоторым коэффициентом. Добавить регуляризацию по весам слоя можно установкой параметра kernel_regularizer."
      ]
    },
    {
      "cell_type": "code",
      "metadata": {
        "id": "KUgEvvcV_teK",
        "colab_type": "code",
        "colab": {}
      },
      "source": [
        "regularizers."
      ],
      "execution_count": 0,
      "outputs": []
    },
    {
      "cell_type": "code",
      "metadata": {
        "id": "AB7wwQ6FrLyi",
        "colab_type": "code",
        "outputId": "d10c3aab-3627-4956-873d-755c08a412ea",
        "colab": {
          "base_uri": "https://localhost:8080/",
          "height": 410
        }
      },
      "source": [
        "from keras import regularizers\n",
        "\n",
        "def make_model_with_l2():\n",
        "    model = Sequential()\n",
        "    model.add(Conv2D(filters=16, padding='same', kernel_size=(3,3), input_shape=(32,32,3)))\n",
        "    model.add(LeakyReLU(0.1))\n",
        "    model.add(BatchNormalization())\n",
        "    model.add(Conv2D(filters=32, padding='same', kernel_size=(3,3)))  \n",
        "    model.add(LeakyReLU(0.1))\n",
        "    model.add(BatchNormalization()) \n",
        "    model.add(MaxPooling2D(pool_size=(2,2), padding='same'))\n",
        "    model.add(Conv2D(filters=64, padding='same', kernel_size=(3,3)))  \n",
        "    model.add(LeakyReLU(0.1))\n",
        "    model.add(BatchNormalization())\n",
        "    model.add(MaxPooling2D(pool_size=(2,2), padding='same')) \n",
        "    model.add(Flatten())\n",
        "    model.add(Dense(256, kernel_regularizer= regularizers.l1(2.0)))                \n",
        "    model.add(LeakyReLU(0.1))\n",
        "\n",
        "    model.add(Dense(10))             \n",
        "    model.add(Activation(\"softmax\"))\n",
        "    #YOUR CODE HERE\n",
        "    #используйте модель из make_model и добавьте в параметры слоёв l2-регуляризацию с помощью параметра kernel_regularizer\n",
        "    #подсказка: поищите подходящий регуляризатор в tf.keras.regularizers\n",
        "    \n",
        "    return model\n",
        "\n",
        "train_model(x_train2, y_train2, x_test2, y_test2, make_model_with_l2)"
      ],
      "execution_count": 0,
      "outputs": [
        {
          "output_type": "stream",
          "text": [
            "Train on 50000 samples, validate on 10000 samples\n",
            "Epoch 1/10\n",
            "25120/50000 [==============>...............] - ETA: 10s - loss: 1465.0470 - acc: 0.1612"
          ],
          "name": "stdout"
        },
        {
          "output_type": "error",
          "ename": "KeyboardInterrupt",
          "evalue": "ignored",
          "traceback": [
            "\u001b[0;31m---------------------------------------------------------------------------\u001b[0m",
            "\u001b[0;31mKeyboardInterrupt\u001b[0m                         Traceback (most recent call last)",
            "\u001b[0;32m<ipython-input-30-0ff4cfe8ceb9>\u001b[0m in \u001b[0;36m<module>\u001b[0;34m()\u001b[0m\n\u001b[1;32m     26\u001b[0m     \u001b[0;32mreturn\u001b[0m \u001b[0mmodel\u001b[0m\u001b[0;34m\u001b[0m\u001b[0;34m\u001b[0m\u001b[0m\n\u001b[1;32m     27\u001b[0m \u001b[0;34m\u001b[0m\u001b[0m\n\u001b[0;32m---> 28\u001b[0;31m \u001b[0mtrain_model\u001b[0m\u001b[0;34m(\u001b[0m\u001b[0mx_train2\u001b[0m\u001b[0;34m,\u001b[0m \u001b[0my_train2\u001b[0m\u001b[0;34m,\u001b[0m \u001b[0mx_test2\u001b[0m\u001b[0;34m,\u001b[0m \u001b[0my_test2\u001b[0m\u001b[0;34m,\u001b[0m \u001b[0mmake_model_with_l2\u001b[0m\u001b[0;34m)\u001b[0m\u001b[0;34m\u001b[0m\u001b[0;34m\u001b[0m\u001b[0m\n\u001b[0m",
            "\u001b[0;32m<ipython-input-12-ad316a630349>\u001b[0m in \u001b[0;36mtrain_model\u001b[0;34m(x_train, y_train, x_test, y_test, make_model)\u001b[0m\n\u001b[1;32m     22\u001b[0m       \u001b[0mshuffle\u001b[0m\u001b[0;34m=\u001b[0m\u001b[0;32mTrue\u001b[0m\u001b[0;34m,\u001b[0m\u001b[0;34m\u001b[0m\u001b[0;34m\u001b[0m\u001b[0m\n\u001b[1;32m     23\u001b[0m       \u001b[0mverbose\u001b[0m\u001b[0;34m=\u001b[0m\u001b[0;36m1\u001b[0m\u001b[0;34m,\u001b[0m\u001b[0;34m\u001b[0m\u001b[0;34m\u001b[0m\u001b[0m\n\u001b[0;32m---> 24\u001b[0;31m       \u001b[0minitial_epoch\u001b[0m\u001b[0;34m=\u001b[0m\u001b[0;36m0\u001b[0m\u001b[0;34m\u001b[0m\u001b[0;34m\u001b[0m\u001b[0m\n\u001b[0m\u001b[1;32m     25\u001b[0m   )\n\u001b[1;32m     26\u001b[0m \u001b[0;34m\u001b[0m\u001b[0m\n",
            "\u001b[0;32m/usr/local/lib/python3.6/dist-packages/tensorflow_core/python/keras/engine/training.py\u001b[0m in \u001b[0;36mfit\u001b[0;34m(self, x, y, batch_size, epochs, verbose, callbacks, validation_split, validation_data, shuffle, class_weight, sample_weight, initial_epoch, steps_per_epoch, validation_steps, validation_freq, max_queue_size, workers, use_multiprocessing, **kwargs)\u001b[0m\n\u001b[1;32m    725\u001b[0m         \u001b[0mmax_queue_size\u001b[0m\u001b[0;34m=\u001b[0m\u001b[0mmax_queue_size\u001b[0m\u001b[0;34m,\u001b[0m\u001b[0;34m\u001b[0m\u001b[0;34m\u001b[0m\u001b[0m\n\u001b[1;32m    726\u001b[0m         \u001b[0mworkers\u001b[0m\u001b[0;34m=\u001b[0m\u001b[0mworkers\u001b[0m\u001b[0;34m,\u001b[0m\u001b[0;34m\u001b[0m\u001b[0;34m\u001b[0m\u001b[0m\n\u001b[0;32m--> 727\u001b[0;31m         use_multiprocessing=use_multiprocessing)\n\u001b[0m\u001b[1;32m    728\u001b[0m \u001b[0;34m\u001b[0m\u001b[0m\n\u001b[1;32m    729\u001b[0m   def evaluate(self,\n",
            "\u001b[0;32m/usr/local/lib/python3.6/dist-packages/tensorflow_core/python/keras/engine/training_arrays.py\u001b[0m in \u001b[0;36mfit\u001b[0;34m(self, model, x, y, batch_size, epochs, verbose, callbacks, validation_split, validation_data, shuffle, class_weight, sample_weight, initial_epoch, steps_per_epoch, validation_steps, validation_freq, **kwargs)\u001b[0m\n\u001b[1;32m    673\u001b[0m         \u001b[0mvalidation_steps\u001b[0m\u001b[0;34m=\u001b[0m\u001b[0mvalidation_steps\u001b[0m\u001b[0;34m,\u001b[0m\u001b[0;34m\u001b[0m\u001b[0;34m\u001b[0m\u001b[0m\n\u001b[1;32m    674\u001b[0m         \u001b[0mvalidation_freq\u001b[0m\u001b[0;34m=\u001b[0m\u001b[0mvalidation_freq\u001b[0m\u001b[0;34m,\u001b[0m\u001b[0;34m\u001b[0m\u001b[0;34m\u001b[0m\u001b[0m\n\u001b[0;32m--> 675\u001b[0;31m         steps_name='steps_per_epoch')\n\u001b[0m\u001b[1;32m    676\u001b[0m \u001b[0;34m\u001b[0m\u001b[0m\n\u001b[1;32m    677\u001b[0m   def evaluate(self,\n",
            "\u001b[0;32m/usr/local/lib/python3.6/dist-packages/tensorflow_core/python/keras/engine/training_arrays.py\u001b[0m in \u001b[0;36mmodel_iteration\u001b[0;34m(model, inputs, targets, sample_weights, batch_size, epochs, verbose, callbacks, val_inputs, val_targets, val_sample_weights, shuffle, initial_epoch, steps_per_epoch, validation_steps, validation_freq, mode, validation_in_fit, prepared_feed_values_from_dataset, steps_name, **kwargs)\u001b[0m\n\u001b[1;32m    392\u001b[0m \u001b[0;34m\u001b[0m\u001b[0m\n\u001b[1;32m    393\u001b[0m         \u001b[0;31m# Get outputs.\u001b[0m\u001b[0;34m\u001b[0m\u001b[0;34m\u001b[0m\u001b[0;34m\u001b[0m\u001b[0m\n\u001b[0;32m--> 394\u001b[0;31m         \u001b[0mbatch_outs\u001b[0m \u001b[0;34m=\u001b[0m \u001b[0mf\u001b[0m\u001b[0;34m(\u001b[0m\u001b[0mins_batch\u001b[0m\u001b[0;34m)\u001b[0m\u001b[0;34m\u001b[0m\u001b[0;34m\u001b[0m\u001b[0m\n\u001b[0m\u001b[1;32m    395\u001b[0m         \u001b[0;32mif\u001b[0m \u001b[0;32mnot\u001b[0m \u001b[0misinstance\u001b[0m\u001b[0;34m(\u001b[0m\u001b[0mbatch_outs\u001b[0m\u001b[0;34m,\u001b[0m \u001b[0mlist\u001b[0m\u001b[0;34m)\u001b[0m\u001b[0;34m:\u001b[0m\u001b[0;34m\u001b[0m\u001b[0;34m\u001b[0m\u001b[0m\n\u001b[1;32m    396\u001b[0m           \u001b[0mbatch_outs\u001b[0m \u001b[0;34m=\u001b[0m \u001b[0;34m[\u001b[0m\u001b[0mbatch_outs\u001b[0m\u001b[0;34m]\u001b[0m\u001b[0;34m\u001b[0m\u001b[0;34m\u001b[0m\u001b[0m\n",
            "\u001b[0;32m/usr/local/lib/python3.6/dist-packages/tensorflow_core/python/keras/backend.py\u001b[0m in \u001b[0;36m__call__\u001b[0;34m(self, inputs)\u001b[0m\n\u001b[1;32m   3474\u001b[0m \u001b[0;34m\u001b[0m\u001b[0m\n\u001b[1;32m   3475\u001b[0m     fetched = self._callable_fn(*array_vals,\n\u001b[0;32m-> 3476\u001b[0;31m                                 run_metadata=self.run_metadata)\n\u001b[0m\u001b[1;32m   3477\u001b[0m     \u001b[0mself\u001b[0m\u001b[0;34m.\u001b[0m\u001b[0m_call_fetch_callbacks\u001b[0m\u001b[0;34m(\u001b[0m\u001b[0mfetched\u001b[0m\u001b[0;34m[\u001b[0m\u001b[0;34m-\u001b[0m\u001b[0mlen\u001b[0m\u001b[0;34m(\u001b[0m\u001b[0mself\u001b[0m\u001b[0;34m.\u001b[0m\u001b[0m_fetches\u001b[0m\u001b[0;34m)\u001b[0m\u001b[0;34m:\u001b[0m\u001b[0;34m]\u001b[0m\u001b[0;34m)\u001b[0m\u001b[0;34m\u001b[0m\u001b[0;34m\u001b[0m\u001b[0m\n\u001b[1;32m   3478\u001b[0m     output_structure = nest.pack_sequence_as(\n",
            "\u001b[0;32m/usr/local/lib/python3.6/dist-packages/tensorflow_core/python/client/session.py\u001b[0m in \u001b[0;36m__call__\u001b[0;34m(self, *args, **kwargs)\u001b[0m\n\u001b[1;32m   1470\u001b[0m         ret = tf_session.TF_SessionRunCallable(self._session._session,\n\u001b[1;32m   1471\u001b[0m                                                \u001b[0mself\u001b[0m\u001b[0;34m.\u001b[0m\u001b[0m_handle\u001b[0m\u001b[0;34m,\u001b[0m \u001b[0margs\u001b[0m\u001b[0;34m,\u001b[0m\u001b[0;34m\u001b[0m\u001b[0;34m\u001b[0m\u001b[0m\n\u001b[0;32m-> 1472\u001b[0;31m                                                run_metadata_ptr)\n\u001b[0m\u001b[1;32m   1473\u001b[0m         \u001b[0;32mif\u001b[0m \u001b[0mrun_metadata\u001b[0m\u001b[0;34m:\u001b[0m\u001b[0;34m\u001b[0m\u001b[0;34m\u001b[0m\u001b[0m\n\u001b[1;32m   1474\u001b[0m           \u001b[0mproto_data\u001b[0m \u001b[0;34m=\u001b[0m \u001b[0mtf_session\u001b[0m\u001b[0;34m.\u001b[0m\u001b[0mTF_GetBuffer\u001b[0m\u001b[0;34m(\u001b[0m\u001b[0mrun_metadata_ptr\u001b[0m\u001b[0;34m)\u001b[0m\u001b[0;34m\u001b[0m\u001b[0;34m\u001b[0m\u001b[0m\n",
            "\u001b[0;31mKeyboardInterrupt\u001b[0m: "
          ]
        }
      ]
    },
    {
      "cell_type": "markdown",
      "metadata": {
        "id": "qRzlh5K5s2k0",
        "colab_type": "text"
      },
      "source": [
        "Что будет, если увеличить коэффициент перед весами? А если уменьшить?\n",
        "\n",
        "P. S. Обратите внимание, что регуляризация замедляет скорость обучения. Улучшится ли результат, если увеличить количество эпох?"
      ]
    }
  ]
}