{
  "nbformat": 4,
  "nbformat_minor": 0,
  "metadata": {
    "colab": {
      "name": "Copy of Small Tensorflow 2 tutorial",
      "provenance": [],
      "collapsed_sections": [],
      "include_colab_link": true
    },
    "kernelspec": {
      "name": "python3",
      "display_name": "Python 3"
    },
    "accelerator": "GPU"
  },
  "cells": [
    {
      "cell_type": "markdown",
      "metadata": {
        "id": "view-in-github",
        "colab_type": "text"
      },
      "source": [
        "<a href=\"https://colab.research.google.com/github/wallykop/iad-deep-learning/blob/master/Small_Tensorflow_2_tutorial.ipynb\" target=\"_parent\"><img src=\"https://colab.research.google.com/assets/colab-badge.svg\" alt=\"Open In Colab\"/></a>"
      ]
    },
    {
      "cell_type": "markdown",
      "metadata": {
        "id": "WoSyhwOG4eQ0",
        "colab_type": "text"
      },
      "source": [
        "# Устанавливаем Tensorflow 2"
      ]
    },
    {
      "cell_type": "code",
      "metadata": {
        "id": "n-97P9Q35IDq",
        "colab_type": "code",
        "outputId": "7f3cdacf-077d-4b2f-de06-187f70d36490",
        "colab": {
          "base_uri": "https://localhost:8080/",
          "height": 35
        }
      },
      "source": [
        "# Install TensorFlow\n",
        "try:\n",
        "  # Colab only, comment if using outside of Colab\n",
        "  %tensorflow_version 2.x\n",
        "except Exception:\n",
        "    pass"
      ],
      "execution_count": 1,
      "outputs": [
        {
          "output_type": "stream",
          "text": [
            "TensorFlow 2.x selected.\n"
          ],
          "name": "stdout"
        }
      ]
    },
    {
      "cell_type": "code",
      "metadata": {
        "id": "hg865eC84kyK",
        "colab_type": "code",
        "colab": {}
      },
      "source": [
        "# Non-colab environment, remove comment if using locally\n",
        "# (but please, use anaconda)\n",
        "# !pip install tensorflow==2.0"
      ],
      "execution_count": 0,
      "outputs": []
    },
    {
      "cell_type": "code",
      "metadata": {
        "id": "OwelGqzs4nH9",
        "colab_type": "code",
        "colab": {}
      },
      "source": [
        "import tensorflow as tf"
      ],
      "execution_count": 0,
      "outputs": []
    },
    {
      "cell_type": "code",
      "metadata": {
        "id": "158SSi1e4sx7",
        "colab_type": "code",
        "colab": {}
      },
      "source": [
        "assert tf.version.VERSION == '2.0.0', 'Make sure you are using Tensorflow 2'"
      ],
      "execution_count": 0,
      "outputs": []
    },
    {
      "cell_type": "code",
      "metadata": {
        "id": "zJTaG7bpO_GC",
        "colab_type": "code",
        "colab": {}
      },
      "source": [
        "assert tf.test.is_gpu_available(), 'Make sure you are running with GPU support, you can disable the error by commenting out the check'"
      ],
      "execution_count": 0,
      "outputs": []
    },
    {
      "cell_type": "markdown",
      "metadata": {
        "id": "liR_M48V5loU",
        "colab_type": "text"
      },
      "source": [
        "# Динамическое вычисление!"
      ]
    },
    {
      "cell_type": "markdown",
      "metadata": {
        "id": "0xr-pePp6fp5",
        "colab_type": "text"
      },
      "source": [
        "### Из Numpy в Tensorflow и обратно"
      ]
    },
    {
      "cell_type": "code",
      "metadata": {
        "id": "26kUaNvm5oif",
        "colab_type": "code",
        "colab": {}
      },
      "source": [
        "import numpy as np\n",
        "\n",
        "numpy_array = np.array([1.0, 2.0, 3.0, 4.0, 5.0])\n",
        "tensorflow_array = tf.convert_to_tensor(numpy_array) # работает с питоновскими массивами \n",
        "# Alternatively\n",
        "tensorflow_array = tf.constant(numpy_array) # только нампай массивы"
      ],
      "execution_count": 0,
      "outputs": []
    },
    {
      "cell_type": "code",
      "metadata": {
        "id": "eKk9rOMJ6E_G",
        "colab_type": "code",
        "outputId": "0a8aea89-8726-4d13-faf7-e406bceea87b",
        "colab": {
          "base_uri": "https://localhost:8080/",
          "height": 53
        }
      },
      "source": [
        "print('Numpy:', repr(numpy_array))\n",
        "print('Tensorflow:', repr(tensorflow_array)) # repr()(canonical representation)"
      ],
      "execution_count": 9,
      "outputs": [
        {
          "output_type": "stream",
          "text": [
            "Numpy: array([1., 2., 3., 4., 5.])\n",
            "Tensorflow: <tf.Tensor: id=3, shape=(5,), dtype=float64, numpy=array([1., 2., 3., 4., 5.])>\n"
          ],
          "name": "stdout"
        }
      ]
    },
    {
      "cell_type": "code",
      "metadata": {
        "id": "w94623147swi",
        "colab_type": "code",
        "outputId": "efaf1a43-c404-4244-846e-b8b674b113ba",
        "colab": {
          "base_uri": "https://localhost:8080/",
          "height": 35
        }
      },
      "source": [
        "print('From Tensorflow to Numpy:', repr(tensorflow_array.numpy()))"
      ],
      "execution_count": 10,
      "outputs": [
        {
          "output_type": "stream",
          "text": [
            "From Tensorflow to Numpy: array([1., 2., 3., 4., 5.])\n"
          ],
          "name": "stdout"
        }
      ]
    },
    {
      "cell_type": "markdown",
      "metadata": {
        "id": "TCLfL4Z870jC",
        "colab_type": "text"
      },
      "source": [
        "### Операции с тензорами\n",
        "\n",
        "Все операции с тензорами возможны \"на лету\""
      ]
    },
    {
      "cell_type": "code",
      "metadata": {
        "id": "ZQgtmrEk6c1q",
        "colab_type": "code",
        "outputId": "9ef8c7f2-22cc-4bac-cdf3-1555855ce6a3",
        "colab": {
          "base_uri": "https://localhost:8080/",
          "height": 71
        }
      },
      "source": [
        "a = tf.convert_to_tensor([1, 2, 3])\n",
        "b = tf.convert_to_tensor([10, 20, 30])\n",
        "c = 10\n",
        "\n",
        "N = np.array([7, 8, 9])\n",
        "\n",
        "# A + B\n",
        "ab_sum = a + b\n",
        "# print intermediate result\n",
        "print(ab_sum)\n",
        "\n",
        "# C * (A + B)\n",
        "c_times_ab_sum = c * ab_sum\n",
        "print(c_times_ab_sum)\n",
        "\n",
        "# C * (A + B) + N\n",
        "total = c_times_ab_sum + N\n",
        "print(total)"
      ],
      "execution_count": 11,
      "outputs": [
        {
          "output_type": "stream",
          "text": [
            "tf.Tensor([11 22 33], shape=(3,), dtype=int32)\n",
            "tf.Tensor([110 220 330], shape=(3,), dtype=int32)\n",
            "tf.Tensor([117 228 339], shape=(3,), dtype=int32)\n"
          ],
          "name": "stdout"
        }
      ]
    },
    {
      "cell_type": "markdown",
      "metadata": {
        "id": "1eL8HwkB9b8k",
        "colab_type": "text"
      },
      "source": [
        "### Eager execution vs Graph execution"
      ]
    },
    {
      "cell_type": "code",
      "metadata": {
        "id": "sBnWJGqg78Ms",
        "colab_type": "code",
        "colab": {}
      },
      "source": [
        "# Taken from: https://www.tensorflow.org/guide/function\n",
        "\n",
        "# Сложная питоновская функция с циклом\n",
        "def eager_execution_func(items):\n",
        "  s = 0\n",
        "  for c in items:\n",
        "    if c % 2 > 0:\n",
        "      continue\n",
        "    s += c\n",
        "  return s\n",
        "\n",
        "# tf.function конвертирует функцию в статический граф\n",
        "@tf.function # в c++\n",
        "def graph_execution_func(items):\n",
        "  s = 0\n",
        "  for c in items:\n",
        "    if c % 2 > 0:\n",
        "      continue\n",
        "    s += c\n",
        "  return s"
      ],
      "execution_count": 0,
      "outputs": []
    },
    {
      "cell_type": "code",
      "metadata": {
        "id": "8zE6gTDA9xxV",
        "colab_type": "code",
        "outputId": "975a8309-1cb4-4546-e9a9-95cf124ebf0c",
        "colab": {
          "base_uri": "https://localhost:8080/",
          "height": 991
        }
      },
      "source": [
        "# Automatic function graph:\n",
        "print(tf.autograph.to_code(graph_execution_func.python_function))"
      ],
      "execution_count": 13,
      "outputs": [
        {
          "output_type": "stream",
          "text": [
            "def tf__graph_execution_func(items):\n",
            "  do_return = False\n",
            "  retval_ = ag__.UndefinedReturnValue()\n",
            "  with ag__.FunctionScope('graph_execution_func', 'graph_execution_func_scope', ag__.ConversionOptions(recursive=True, user_requested=True, optional_features=(), internal_convert_user_code=True)) as graph_execution_func_scope:\n",
            "    s = 0\n",
            "\n",
            "    def get_state_2():\n",
            "      return ()\n",
            "\n",
            "    def set_state_2(_):\n",
            "      pass\n",
            "\n",
            "    def loop_body(iterates, s):\n",
            "      c = iterates\n",
            "      continue_ = False\n",
            "\n",
            "      def get_state():\n",
            "        return ()\n",
            "\n",
            "      def set_state(_):\n",
            "        pass\n",
            "\n",
            "      def if_true():\n",
            "        continue_ = True\n",
            "        return continue_\n",
            "\n",
            "      def if_false():\n",
            "        return continue_\n",
            "      cond = c % 2 > 0\n",
            "      continue_ = ag__.if_stmt(cond, if_true, if_false, get_state, set_state, ('continue_',), ())\n",
            "\n",
            "      def get_state_1():\n",
            "        return ()\n",
            "\n",
            "      def set_state_1(_):\n",
            "        pass\n",
            "\n",
            "      def if_true_1():\n",
            "        s_1, = s,\n",
            "        s_1 += c\n",
            "        return s_1\n",
            "\n",
            "      def if_false_1():\n",
            "        return s\n",
            "      cond_1 = ag__.not_(continue_)\n",
            "      s = ag__.if_stmt(cond_1, if_true_1, if_false_1, get_state_1, set_state_1, ('s',), ())\n",
            "      return s,\n",
            "    s, = ag__.for_stmt(items, None, loop_body, get_state_2, set_state_2, (s,), ('s',), ())\n",
            "    do_return = True\n",
            "    retval_ = graph_execution_func_scope.mark_return_value(s)\n",
            "  do_return,\n",
            "  return ag__.retval(retval_)\n",
            "\n"
          ],
          "name": "stdout"
        }
      ]
    },
    {
      "cell_type": "code",
      "metadata": {
        "id": "z7YykCEi92Zd",
        "colab_type": "code",
        "outputId": "bede7c81-1fc1-48c4-c071-16476379a040",
        "colab": {
          "base_uri": "https://localhost:8080/",
          "height": 91
        }
      },
      "source": [
        "import matplotlib.pyplot as plt\n",
        "from tqdm import tqdm\n",
        "import time\n",
        "\n",
        "eager_execution_times = []\n",
        "graph_execution_times = []\n",
        "sizes = 10 ** np.arange(6)\n",
        "\n",
        "for size in tqdm(sizes):\n",
        "  items_for_test = tf.random.uniform(shape=[size],\n",
        "                                     minval=0,\n",
        "                                     maxval=1000,\n",
        "                                     dtype=tf.int32)\n",
        "  \n",
        "  start_eager = time.time()\n",
        "  eager_execution_func(items_for_test)\n",
        "  end_eager = time.time()\n",
        "  eager_execution_times.append(end_eager - start_eager)\n",
        "\n",
        "  start_graph = time.time()\n",
        "  graph_execution_func(items_for_test)\n",
        "  end_graph = time.time()\n",
        "  graph_execution_times.append(end_graph - start_graph)"
      ],
      "execution_count": 14,
      "outputs": [
        {
          "output_type": "stream",
          "text": [
            " 67%|██████▋   | 4/6 [00:04<00:03,  1.80s/it]"
          ],
          "name": "stderr"
        },
        {
          "output_type": "stream",
          "text": [
            "WARNING:tensorflow:5 out of the last 5 calls to <function graph_execution_func at 0x7f9df041ed08> triggered tf.function retracing. Tracing is expensive and the excessive number of tracings is likely due to passing python objects instead of tensors. Also, tf.function has experimental_relax_shapes=True option that relaxes argument shapes that can avoid unnecessary retracing. Please refer to https://www.tensorflow.org/beta/tutorials/eager/tf_function#python_or_tensor_args and https://www.tensorflow.org/api_docs/python/tf/function for more details.\n"
          ],
          "name": "stdout"
        },
        {
          "output_type": "stream",
          "text": [
            "\r 83%|████████▎ | 5/6 [00:11<00:03,  3.44s/it]"
          ],
          "name": "stderr"
        },
        {
          "output_type": "stream",
          "text": [
            "WARNING:tensorflow:6 out of the last 6 calls to <function graph_execution_func at 0x7f9df041ed08> triggered tf.function retracing. Tracing is expensive and the excessive number of tracings is likely due to passing python objects instead of tensors. Also, tf.function has experimental_relax_shapes=True option that relaxes argument shapes that can avoid unnecessary retracing. Please refer to https://www.tensorflow.org/beta/tutorials/eager/tf_function#python_or_tensor_args and https://www.tensorflow.org/api_docs/python/tf/function for more details.\n"
          ],
          "name": "stdout"
        },
        {
          "output_type": "stream",
          "text": [
            "\r100%|██████████| 6/6 [01:38<00:00, 28.43s/it]\n"
          ],
          "name": "stderr"
        }
      ]
    },
    {
      "cell_type": "code",
      "metadata": {
        "id": "BOtMvLC_Cb27",
        "colab_type": "code",
        "outputId": "3262c788-94dd-47ba-b825-8cada0cf89a6",
        "colab": {
          "base_uri": "https://localhost:8080/",
          "height": 287
        }
      },
      "source": [
        "plt.plot(sizes, eager_execution_times, label='Eager')\n",
        "plt.plot(sizes, graph_execution_times, label='Graph')\n",
        "plt.xscale('log')\n",
        "plt.legend()"
      ],
      "execution_count": 15,
      "outputs": [
        {
          "output_type": "execute_result",
          "data": {
            "text/plain": [
              "<matplotlib.legend.Legend at 0x7f9da81eada0>"
            ]
          },
          "metadata": {
            "tags": []
          },
          "execution_count": 15
        },
        {
          "output_type": "display_data",
          "data": {
            "image/png": "[encoded data removed]",
            "text/plain": [
              "<Figure size 432x288 with 1 Axes>"
            ]
          },
          "metadata": {
            "tags": []
          }
        }
      ]
    },
    {
      "cell_type": "markdown",
      "metadata": {
        "id": "3tpszCqyEs0G",
        "colab_type": "text"
      },
      "source": [
        "1 строчка кода, а прирост в 6 раз!\n",
        "\n",
        "__Вывод__: можно делать отладку в eager режиме, а модели обучать в режиме статического графа (если хочется больше производительности)."
      ]
    },
    {
      "cell_type": "markdown",
      "metadata": {
        "id": "J9qAvV2TFRyA",
        "colab_type": "text"
      },
      "source": [
        "### Встроенный Keras\n",
        "#### Обучим сеточку на MNIST (в который раз)"
      ]
    },
    {
      "cell_type": "code",
      "metadata": {
        "id": "yXWUAmulFVBJ",
        "colab_type": "code",
        "outputId": "e9594e0b-4778-4ed2-c724-86c659e5f034",
        "colab": {
          "base_uri": "https://localhost:8080/",
          "height": 53
        }
      },
      "source": [
        "# Taken from https://www.tensorflow.org/tutorials/quickstart/beginner?hl=ru\n",
        "\n",
        "mnist = tf.keras.datasets.mnist\n",
        "\n",
        "(x_train, y_train), (x_test, y_test) = mnist.load_data()\n",
        "x_train, x_test = x_train / 255.0, x_test / 255.0"
      ],
      "execution_count": 16,
      "outputs": [
        {
          "output_type": "stream",
          "text": [
            "Downloading data from https://storage.googleapis.com/tensorflow/tf-keras-datasets/mnist.npz\n",
            "11493376/11490434 [==============================] - 0s 0us/step\n"
          ],
          "name": "stdout"
        }
      ]
    },
    {
      "cell_type": "code",
      "metadata": {
        "id": "K_8pmkVeGPbP",
        "colab_type": "code",
        "outputId": "3d0064a3-4d30-49ba-f045-98bceaac2e06",
        "colab": {
          "base_uri": "https://localhost:8080/",
          "height": 283
        }
      },
      "source": [
        "plt.imshow(x_train[0])"
      ],
      "execution_count": 17,
      "outputs": [
        {
          "output_type": "execute_result",
          "data": {
            "text/plain": [
              "<matplotlib.image.AxesImage at 0x7f9da7b1e240>"
            ]
          },
          "metadata": {
            "tags": []
          },
          "execution_count": 17
        },
        {
          "output_type": "display_data",
          "data": {
            "image/png": "[encoded data removed]",
            "text/plain": [
              "<Figure size 432x288 with 1 Axes>"
            ]
          },
          "metadata": {
            "tags": []
          }
        }
      ]
    },
    {
      "cell_type": "code",
      "metadata": {
        "id": "1ZqDiEbNGQ7g",
        "colab_type": "code",
        "colab": {}
      },
      "source": [
        "fully_connected = tf.keras.models.Sequential([\n",
        "  tf.keras.layers.Flatten(input_shape=(28, 28)),\n",
        "  tf.keras.layers.Dense(128, activation='relu'),\n",
        "  tf.keras.layers.Dropout(0.2),\n",
        "  tf.keras.layers.Dense(10, activation='softmax')\n",
        "])\n",
        "\n",
        "optimizer = tf.keras.optimizers.Adam(learning_rate = 0.001)\n",
        "\n",
        "fully_connected.compile(optimizer=optimizer,#'adam',\n",
        "                        loss='sparse_categorical_crossentropy',\n",
        "                        metrics=['accuracy'])"
      ],
      "execution_count": 0,
      "outputs": []
    },
    {
      "cell_type": "code",
      "metadata": {
        "id": "dRoDoQv_OAmB",
        "colab_type": "code",
        "outputId": "e84be6e6-e0b4-4bbb-b238-94c945fa7400",
        "colab": {
          "base_uri": "https://localhost:8080/",
          "height": 305
        }
      },
      "source": [
        "fully_connected.summary()"
      ],
      "execution_count": 27,
      "outputs": [
        {
          "output_type": "stream",
          "text": [
            "Model: \"sequential_3\"\n",
            "_________________________________________________________________\n",
            "Layer (type)                 Output Shape              Param #   \n",
            "=================================================================\n",
            "flatten_3 (Flatten)          (None, 784)               0         \n",
            "_________________________________________________________________\n",
            "dense_6 (Dense)              (None, 128)               100480    \n",
            "_________________________________________________________________\n",
            "dropout_2 (Dropout)          (None, 128)               0         \n",
            "_________________________________________________________________\n",
            "dense_7 (Dense)              (None, 10)                1290      \n",
            "=================================================================\n",
            "Total params: 101,770\n",
            "Trainable params: 101,770\n",
            "Non-trainable params: 0\n",
            "_________________________________________________________________\n"
          ],
          "name": "stdout"
        }
      ]
    },
    {
      "cell_type": "code",
      "metadata": {
        "id": "1dsW1YOhGiW5",
        "colab_type": "code",
        "outputId": "e99978ad-2424-4a73-92c0-dd1299f6ba61",
        "colab": {
          "base_uri": "https://localhost:8080/",
          "height": 251
        }
      },
      "source": [
        "fully_connected.fit(x_train, y_train, epochs=5, validation_data=(x_test, y_test))\n",
        "\n",
        "fully_connected.evaluate(x_test,  y_test, verbose=2)"
      ],
      "execution_count": 28,
      "outputs": [
        {
          "output_type": "stream",
          "text": [
            "Train on 60000 samples, validate on 10000 samples\n",
            "Epoch 1/5\n",
            "60000/60000 [==============================] - 7s 124us/sample - loss: 0.2995 - accuracy: 0.9140 - val_loss: 0.1416 - val_accuracy: 0.9588\n",
            "Epoch 2/5\n",
            "60000/60000 [==============================] - 7s 117us/sample - loss: 0.1442 - accuracy: 0.9574 - val_loss: 0.0996 - val_accuracy: 0.9706\n",
            "Epoch 3/5\n",
            "60000/60000 [==============================] - 7s 116us/sample - loss: 0.1084 - accuracy: 0.9670 - val_loss: 0.0887 - val_accuracy: 0.9721\n",
            "Epoch 4/5\n",
            "60000/60000 [==============================] - 7s 114us/sample - loss: 0.0907 - accuracy: 0.9712 - val_loss: 0.0748 - val_accuracy: 0.9769\n",
            "Epoch 5/5\n",
            "60000/60000 [==============================] - 7s 117us/sample - loss: 0.0747 - accuracy: 0.9765 - val_loss: 0.0752 - val_accuracy: 0.9776\n",
            "10000/1 - 1s - loss: 0.0388 - accuracy: 0.9776\n"
          ],
          "name": "stdout"
        },
        {
          "output_type": "execute_result",
          "data": {
            "text/plain": [
              "[0.07523357505789027, 0.9776]"
            ]
          },
          "metadata": {
            "tags": []
          },
          "execution_count": 28
        }
      ]
    },
    {
      "cell_type": "markdown",
      "metadata": {
        "id": "m35mlkgnLiUe",
        "colab_type": "text"
      },
      "source": [
        "### Более интересные модели\n",
        "\n",
        "В Keras можно писать свои классы моделей нейронных сетей"
      ]
    },
    {
      "cell_type": "code",
      "metadata": {
        "id": "ska9nNNZLk_A",
        "colab_type": "code",
        "colab": {}
      },
      "source": [
        "class MySuperModel(tf.keras.Model):\n",
        "  def __init__(self, number_of_layers, hidden_size):\n",
        "    super().__init__() # Don't forget to call the base class initializer\n",
        "\n",
        "    self.all_fc_layers = []\n",
        "    self.all_fc_layers.append(tf.keras.layers.Flatten())\n",
        "    for i in range(number_of_layers):\n",
        "      self.all_fc_layers.append(tf.keras.layers.Dense(hidden_size, activation='relu'))\n",
        "    self.all_fc_layers.append(tf.keras.layers.Dense(10, activation='softmax'))\n",
        "\n",
        "  def call(self, model_input):\n",
        "    current_input = model_input\n",
        "    for layer in self.all_fc_layers:\n",
        "      current_input = layer(current_input)\n",
        "    return current_input"
      ],
      "execution_count": 0,
      "outputs": []
    },
    {
      "cell_type": "code",
      "metadata": {
        "id": "vWFNb6aNNe1S",
        "colab_type": "code",
        "outputId": "07fb6037-71c6-47af-95a0-d95d3355a624",
        "colab": {
          "base_uri": "https://localhost:8080/",
          "height": 269
        }
      },
      "source": [
        "my_super_model = MySuperModel(5, 100)\n",
        "my_super_model.compile(optimizer='adam',\n",
        "                       loss='sparse_categorical_crossentropy',\n",
        "                       metrics=['accuracy'])\n",
        "\n",
        "# Early stopping on validation accuracy with ease!\n",
        "# reduce learning rate on plateau (ReduceLROnPlateau) tf.keras.callbacks.ReduceLROnPlateau()\n",
        "early_stopping = tf.keras.callbacks.EarlyStopping(monitor='val_accuracy', mode='max', patience=2) # ранняя остановка -- способ регуляризации модели (если точность не увеличивается в течении 2 эпох, мы останавливаем обучение)\n",
        "my_super_model.fit(x_train, y_train, epochs=20, validation_data=(x_test, y_test), callbacks=[early_stopping])"
      ],
      "execution_count": 30,
      "outputs": [
        {
          "output_type": "stream",
          "text": [
            "Train on 60000 samples, validate on 10000 samples\n",
            "Epoch 1/20\n",
            "60000/60000 [==============================] - 10s 159us/sample - loss: 0.2596 - accuracy: 0.9213 - val_loss: 0.1233 - val_accuracy: 0.9612\n",
            "Epoch 2/20\n",
            "60000/60000 [==============================] - 9s 147us/sample - loss: 0.1208 - accuracy: 0.9633 - val_loss: 0.1232 - val_accuracy: 0.9637\n",
            "Epoch 3/20\n",
            "60000/60000 [==============================] - 9s 148us/sample - loss: 0.0922 - accuracy: 0.9721 - val_loss: 0.1024 - val_accuracy: 0.9712\n",
            "Epoch 4/20\n",
            "60000/60000 [==============================] - 9s 149us/sample - loss: 0.0740 - accuracy: 0.9771 - val_loss: 0.0890 - val_accuracy: 0.9735\n",
            "Epoch 5/20\n",
            "60000/60000 [==============================] - 9s 149us/sample - loss: 0.0619 - accuracy: 0.9812 - val_loss: 0.0974 - val_accuracy: 0.9706\n",
            "Epoch 6/20\n",
            "60000/60000 [==============================] - 9s 149us/sample - loss: 0.0553 - accuracy: 0.9829 - val_loss: 0.0988 - val_accuracy: 0.9725\n"
          ],
          "name": "stdout"
        },
        {
          "output_type": "execute_result",
          "data": {
            "text/plain": [
              "<tensorflow.python.keras.callbacks.History at 0x7f9da7419e48>"
            ]
          },
          "metadata": {
            "tags": []
          },
          "execution_count": 30
        }
      ]
    },
    {
      "cell_type": "code",
      "metadata": {
        "id": "-0GZlWc_QnOo",
        "colab_type": "code",
        "colab": {
          "base_uri": "https://localhost:8080/",
          "height": 790
        },
        "outputId": "f517be93-34c3-45f3-b1e2-a38d93536e4c"
      },
      "source": [
        "my_super_model = MySuperModel(5, 100)\n",
        "my_super_model.compile(optimizer='adam',\n",
        "                       loss='sparse_categorical_crossentropy',\n",
        "                       metrics=['accuracy'])\n",
        "\n",
        "reduce_lr = tf.keras.callbacks.ReduceLROnPlateau(monitor='val_loss', factor=0.2,\n",
        "                              patience=5, min_lr=0.001)\n",
        "my_super_model.fit(x_train, y_train, epochs=20, validation_data=(x_test, y_test), callbacks=[reduce_lr])"
      ],
      "execution_count": 37,
      "outputs": [
        {
          "output_type": "stream",
          "text": [
            "Train on 60000 samples, validate on 10000 samples\n",
            "Epoch 1/20\n",
            "60000/60000 [==============================] - 10s 159us/sample - loss: 0.2599 - accuracy: 0.9203 - val_loss: 0.1409 - val_accuracy: 0.9554\n",
            "Epoch 2/20\n",
            "60000/60000 [==============================] - 9s 148us/sample - loss: 0.1213 - accuracy: 0.9631 - val_loss: 0.1016 - val_accuracy: 0.9688\n",
            "Epoch 3/20\n",
            "60000/60000 [==============================] - 9s 150us/sample - loss: 0.0909 - accuracy: 0.9728 - val_loss: 0.0988 - val_accuracy: 0.9698\n",
            "Epoch 4/20\n",
            "60000/60000 [==============================] - 9s 148us/sample - loss: 0.0740 - accuracy: 0.9775 - val_loss: 0.1202 - val_accuracy: 0.9649\n",
            "Epoch 5/20\n",
            "60000/60000 [==============================] - 9s 146us/sample - loss: 0.0639 - accuracy: 0.9809 - val_loss: 0.1107 - val_accuracy: 0.9684\n",
            "Epoch 6/20\n",
            "60000/60000 [==============================] - 9s 147us/sample - loss: 0.0553 - accuracy: 0.9836 - val_loss: 0.0933 - val_accuracy: 0.9726\n",
            "Epoch 7/20\n",
            "60000/60000 [==============================] - 9s 148us/sample - loss: 0.0464 - accuracy: 0.9853 - val_loss: 0.0803 - val_accuracy: 0.9766\n",
            "Epoch 8/20\n",
            "60000/60000 [==============================] - 9s 147us/sample - loss: 0.0425 - accuracy: 0.9864 - val_loss: 0.1005 - val_accuracy: 0.9742\n",
            "Epoch 9/20\n",
            "60000/60000 [==============================] - 9s 147us/sample - loss: 0.0375 - accuracy: 0.9886 - val_loss: 0.0935 - val_accuracy: 0.9766\n",
            "Epoch 10/20\n",
            "60000/60000 [==============================] - 9s 146us/sample - loss: 0.0333 - accuracy: 0.9893 - val_loss: 0.1031 - val_accuracy: 0.9743\n",
            "Epoch 11/20\n",
            "27360/60000 [============>.................] - ETA: 4s - loss: 0.0260 - accuracy: 0.9922WARNING:tensorflow:Reduce LR on plateau conditioned on metric `val_loss` which is not available. Available metrics are: loss,accuracy,lr\n"
          ],
          "name": "stdout"
        },
        {
          "output_type": "error",
          "ename": "KeyboardInterrupt",
          "evalue": "ignored",
          "traceback": [
            "\u001b[0;31m---------------------------------------------------------------------------\u001b[0m",
            "\u001b[0;31mKeyboardInterrupt\u001b[0m                         Traceback (most recent call last)",
            "\u001b[0;32m<ipython-input-37-8b5c46dd639a>\u001b[0m in \u001b[0;36m<module>\u001b[0;34m()\u001b[0m\n\u001b[1;32m      6\u001b[0m reduce_lr = tf.keras.callbacks.ReduceLROnPlateau(monitor='val_loss', factor=0.2,\n\u001b[1;32m      7\u001b[0m                               patience=5, min_lr=0.001)\n\u001b[0;32m----> 8\u001b[0;31m \u001b[0mmy_super_model\u001b[0m\u001b[0;34m.\u001b[0m\u001b[0mfit\u001b[0m\u001b[0;34m(\u001b[0m\u001b[0mx_train\u001b[0m\u001b[0;34m,\u001b[0m \u001b[0my_train\u001b[0m\u001b[0;34m,\u001b[0m \u001b[0mepochs\u001b[0m\u001b[0;34m=\u001b[0m\u001b[0;36m20\u001b[0m\u001b[0;34m,\u001b[0m \u001b[0mvalidation_data\u001b[0m\u001b[0;34m=\u001b[0m\u001b[0;34m(\u001b[0m\u001b[0mx_test\u001b[0m\u001b[0;34m,\u001b[0m \u001b[0my_test\u001b[0m\u001b[0;34m)\u001b[0m\u001b[0;34m,\u001b[0m \u001b[0mcallbacks\u001b[0m\u001b[0;34m=\u001b[0m\u001b[0;34m[\u001b[0m\u001b[0mreduce_lr\u001b[0m\u001b[0;34m]\u001b[0m\u001b[0;34m)\u001b[0m\u001b[0;34m\u001b[0m\u001b[0;34m\u001b[0m\u001b[0m\n\u001b[0m",
            "\u001b[0;32m/tensorflow-2.0.0/python3.6/tensorflow_core/python/keras/engine/training.py\u001b[0m in \u001b[0;36mfit\u001b[0;34m(self, x, y, batch_size, epochs, verbose, callbacks, validation_split, validation_data, shuffle, class_weight, sample_weight, initial_epoch, steps_per_epoch, validation_steps, validation_freq, max_queue_size, workers, use_multiprocessing, **kwargs)\u001b[0m\n\u001b[1;32m    726\u001b[0m         \u001b[0mmax_queue_size\u001b[0m\u001b[0;34m=\u001b[0m\u001b[0mmax_queue_size\u001b[0m\u001b[0;34m,\u001b[0m\u001b[0;34m\u001b[0m\u001b[0;34m\u001b[0m\u001b[0m\n\u001b[1;32m    727\u001b[0m         \u001b[0mworkers\u001b[0m\u001b[0;34m=\u001b[0m\u001b[0mworkers\u001b[0m\u001b[0;34m,\u001b[0m\u001b[0;34m\u001b[0m\u001b[0;34m\u001b[0m\u001b[0m\n\u001b[0;32m--> 728\u001b[0;31m         use_multiprocessing=use_multiprocessing)\n\u001b[0m\u001b[1;32m    729\u001b[0m \u001b[0;34m\u001b[0m\u001b[0m\n\u001b[1;32m    730\u001b[0m   def evaluate(self,\n",
            "\u001b[0;32m/tensorflow-2.0.0/python3.6/tensorflow_core/python/keras/engine/training_v2.py\u001b[0m in \u001b[0;36mfit\u001b[0;34m(self, model, x, y, batch_size, epochs, verbose, callbacks, validation_split, validation_data, shuffle, class_weight, sample_weight, initial_epoch, steps_per_epoch, validation_steps, validation_freq, **kwargs)\u001b[0m\n\u001b[1;32m    322\u001b[0m                 \u001b[0mmode\u001b[0m\u001b[0;34m=\u001b[0m\u001b[0mModeKeys\u001b[0m\u001b[0;34m.\u001b[0m\u001b[0mTRAIN\u001b[0m\u001b[0;34m,\u001b[0m\u001b[0;34m\u001b[0m\u001b[0;34m\u001b[0m\u001b[0m\n\u001b[1;32m    323\u001b[0m                 \u001b[0mtraining_context\u001b[0m\u001b[0;34m=\u001b[0m\u001b[0mtraining_context\u001b[0m\u001b[0;34m,\u001b[0m\u001b[0;34m\u001b[0m\u001b[0;34m\u001b[0m\u001b[0m\n\u001b[0;32m--> 324\u001b[0;31m                 total_epochs=epochs)\n\u001b[0m\u001b[1;32m    325\u001b[0m             \u001b[0mcbks\u001b[0m\u001b[0;34m.\u001b[0m\u001b[0mmake_logs\u001b[0m\u001b[0;34m(\u001b[0m\u001b[0mmodel\u001b[0m\u001b[0;34m,\u001b[0m \u001b[0mepoch_logs\u001b[0m\u001b[0;34m,\u001b[0m \u001b[0mtraining_result\u001b[0m\u001b[0;34m,\u001b[0m \u001b[0mModeKeys\u001b[0m\u001b[0;34m.\u001b[0m\u001b[0mTRAIN\u001b[0m\u001b[0;34m)\u001b[0m\u001b[0;34m\u001b[0m\u001b[0;34m\u001b[0m\u001b[0m\n\u001b[1;32m    326\u001b[0m \u001b[0;34m\u001b[0m\u001b[0m\n",
            "\u001b[0;32m/tensorflow-2.0.0/python3.6/tensorflow_core/python/keras/engine/training_v2.py\u001b[0m in \u001b[0;36mrun_one_epoch\u001b[0;34m(model, iterator, execution_function, dataset_size, batch_size, strategy, steps_per_epoch, num_samples, mode, training_context, total_epochs)\u001b[0m\n\u001b[1;32m    121\u001b[0m         step=step, mode=mode, size=current_batch_size) as batch_logs:\n\u001b[1;32m    122\u001b[0m       \u001b[0;32mtry\u001b[0m\u001b[0;34m:\u001b[0m\u001b[0;34m\u001b[0m\u001b[0;34m\u001b[0m\u001b[0m\n\u001b[0;32m--> 123\u001b[0;31m         \u001b[0mbatch_outs\u001b[0m \u001b[0;34m=\u001b[0m \u001b[0mexecution_function\u001b[0m\u001b[0;34m(\u001b[0m\u001b[0miterator\u001b[0m\u001b[0;34m)\u001b[0m\u001b[0;34m\u001b[0m\u001b[0;34m\u001b[0m\u001b[0m\n\u001b[0m\u001b[1;32m    124\u001b[0m       \u001b[0;32mexcept\u001b[0m \u001b[0;34m(\u001b[0m\u001b[0mStopIteration\u001b[0m\u001b[0;34m,\u001b[0m \u001b[0merrors\u001b[0m\u001b[0;34m.\u001b[0m\u001b[0mOutOfRangeError\u001b[0m\u001b[0;34m)\u001b[0m\u001b[0;34m:\u001b[0m\u001b[0;34m\u001b[0m\u001b[0;34m\u001b[0m\u001b[0m\n\u001b[1;32m    125\u001b[0m         \u001b[0;31m# TODO(kaftan): File bug about tf function and errors.OutOfRangeError?\u001b[0m\u001b[0;34m\u001b[0m\u001b[0;34m\u001b[0m\u001b[0;34m\u001b[0m\u001b[0m\n",
            "\u001b[0;32m/tensorflow-2.0.0/python3.6/tensorflow_core/python/keras/engine/training_v2_utils.py\u001b[0m in \u001b[0;36mexecution_function\u001b[0;34m(input_fn)\u001b[0m\n\u001b[1;32m     84\u001b[0m     \u001b[0;31m# `numpy` translates Tensors to values in Eager mode.\u001b[0m\u001b[0;34m\u001b[0m\u001b[0;34m\u001b[0m\u001b[0;34m\u001b[0m\u001b[0m\n\u001b[1;32m     85\u001b[0m     return nest.map_structure(_non_none_constant_value,\n\u001b[0;32m---> 86\u001b[0;31m                               distributed_function(input_fn))\n\u001b[0m\u001b[1;32m     87\u001b[0m \u001b[0;34m\u001b[0m\u001b[0m\n\u001b[1;32m     88\u001b[0m   \u001b[0;32mreturn\u001b[0m \u001b[0mexecution_function\u001b[0m\u001b[0;34m\u001b[0m\u001b[0;34m\u001b[0m\u001b[0m\n",
            "\u001b[0;32m/tensorflow-2.0.0/python3.6/tensorflow_core/python/eager/def_function.py\u001b[0m in \u001b[0;36m__call__\u001b[0;34m(self, *args, **kwds)\u001b[0m\n\u001b[1;32m    455\u001b[0m \u001b[0;34m\u001b[0m\u001b[0m\n\u001b[1;32m    456\u001b[0m     \u001b[0mtracing_count\u001b[0m \u001b[0;34m=\u001b[0m \u001b[0mself\u001b[0m\u001b[0;34m.\u001b[0m\u001b[0m_get_tracing_count\u001b[0m\u001b[0;34m(\u001b[0m\u001b[0;34m)\u001b[0m\u001b[0;34m\u001b[0m\u001b[0;34m\u001b[0m\u001b[0m\n\u001b[0;32m--> 457\u001b[0;31m     \u001b[0mresult\u001b[0m \u001b[0;34m=\u001b[0m \u001b[0mself\u001b[0m\u001b[0;34m.\u001b[0m\u001b[0m_call\u001b[0m\u001b[0;34m(\u001b[0m\u001b[0;34m*\u001b[0m\u001b[0margs\u001b[0m\u001b[0;34m,\u001b[0m \u001b[0;34m**\u001b[0m\u001b[0mkwds\u001b[0m\u001b[0;34m)\u001b[0m\u001b[0;34m\u001b[0m\u001b[0;34m\u001b[0m\u001b[0m\n\u001b[0m\u001b[1;32m    458\u001b[0m     \u001b[0;32mif\u001b[0m \u001b[0mtracing_count\u001b[0m \u001b[0;34m==\u001b[0m \u001b[0mself\u001b[0m\u001b[0;34m.\u001b[0m\u001b[0m_get_tracing_count\u001b[0m\u001b[0;34m(\u001b[0m\u001b[0;34m)\u001b[0m\u001b[0;34m:\u001b[0m\u001b[0;34m\u001b[0m\u001b[0;34m\u001b[0m\u001b[0m\n\u001b[1;32m    459\u001b[0m       \u001b[0mself\u001b[0m\u001b[0;34m.\u001b[0m\u001b[0m_call_counter\u001b[0m\u001b[0;34m.\u001b[0m\u001b[0mcalled_without_tracing\u001b[0m\u001b[0;34m(\u001b[0m\u001b[0;34m)\u001b[0m\u001b[0;34m\u001b[0m\u001b[0;34m\u001b[0m\u001b[0m\n",
            "\u001b[0;32m/tensorflow-2.0.0/python3.6/tensorflow_core/python/eager/def_function.py\u001b[0m in \u001b[0;36m_call\u001b[0;34m(self, *args, **kwds)\u001b[0m\n\u001b[1;32m    485\u001b[0m       \u001b[0;31m# In this case we have created variables on the first call, so we run the\u001b[0m\u001b[0;34m\u001b[0m\u001b[0;34m\u001b[0m\u001b[0;34m\u001b[0m\u001b[0m\n\u001b[1;32m    486\u001b[0m       \u001b[0;31m# defunned version which is guaranteed to never create variables.\u001b[0m\u001b[0;34m\u001b[0m\u001b[0;34m\u001b[0m\u001b[0;34m\u001b[0m\u001b[0m\n\u001b[0;32m--> 487\u001b[0;31m       \u001b[0;32mreturn\u001b[0m \u001b[0mself\u001b[0m\u001b[0;34m.\u001b[0m\u001b[0m_stateless_fn\u001b[0m\u001b[0;34m(\u001b[0m\u001b[0;34m*\u001b[0m\u001b[0margs\u001b[0m\u001b[0;34m,\u001b[0m \u001b[0;34m**\u001b[0m\u001b[0mkwds\u001b[0m\u001b[0;34m)\u001b[0m  \u001b[0;31m# pylint: disable=not-callable\u001b[0m\u001b[0;34m\u001b[0m\u001b[0;34m\u001b[0m\u001b[0m\n\u001b[0m\u001b[1;32m    488\u001b[0m     \u001b[0;32melif\u001b[0m \u001b[0mself\u001b[0m\u001b[0;34m.\u001b[0m\u001b[0m_stateful_fn\u001b[0m \u001b[0;32mis\u001b[0m \u001b[0;32mnot\u001b[0m \u001b[0;32mNone\u001b[0m\u001b[0;34m:\u001b[0m\u001b[0;34m\u001b[0m\u001b[0;34m\u001b[0m\u001b[0m\n\u001b[1;32m    489\u001b[0m       \u001b[0;31m# Release the lock early so that multiple threads can perform the call\u001b[0m\u001b[0;34m\u001b[0m\u001b[0;34m\u001b[0m\u001b[0;34m\u001b[0m\u001b[0m\n",
            "\u001b[0;32m/tensorflow-2.0.0/python3.6/tensorflow_core/python/eager/function.py\u001b[0m in \u001b[0;36m__call__\u001b[0;34m(self, *args, **kwargs)\u001b[0m\n\u001b[1;32m   1821\u001b[0m     \u001b[0;34m\"\"\"Calls a graph function specialized to the inputs.\"\"\"\u001b[0m\u001b[0;34m\u001b[0m\u001b[0;34m\u001b[0m\u001b[0m\n\u001b[1;32m   1822\u001b[0m     \u001b[0mgraph_function\u001b[0m\u001b[0;34m,\u001b[0m \u001b[0margs\u001b[0m\u001b[0;34m,\u001b[0m \u001b[0mkwargs\u001b[0m \u001b[0;34m=\u001b[0m \u001b[0mself\u001b[0m\u001b[0;34m.\u001b[0m\u001b[0m_maybe_define_function\u001b[0m\u001b[0;34m(\u001b[0m\u001b[0margs\u001b[0m\u001b[0;34m,\u001b[0m \u001b[0mkwargs\u001b[0m\u001b[0;34m)\u001b[0m\u001b[0;34m\u001b[0m\u001b[0;34m\u001b[0m\u001b[0m\n\u001b[0;32m-> 1823\u001b[0;31m     \u001b[0;32mreturn\u001b[0m \u001b[0mgraph_function\u001b[0m\u001b[0;34m.\u001b[0m\u001b[0m_filtered_call\u001b[0m\u001b[0;34m(\u001b[0m\u001b[0margs\u001b[0m\u001b[0;34m,\u001b[0m \u001b[0mkwargs\u001b[0m\u001b[0;34m)\u001b[0m  \u001b[0;31m# pylint: disable=protected-access\u001b[0m\u001b[0;34m\u001b[0m\u001b[0;34m\u001b[0m\u001b[0m\n\u001b[0m\u001b[1;32m   1824\u001b[0m \u001b[0;34m\u001b[0m\u001b[0m\n\u001b[1;32m   1825\u001b[0m   \u001b[0;34m@\u001b[0m\u001b[0mproperty\u001b[0m\u001b[0;34m\u001b[0m\u001b[0;34m\u001b[0m\u001b[0m\n",
            "\u001b[0;32m/tensorflow-2.0.0/python3.6/tensorflow_core/python/eager/function.py\u001b[0m in \u001b[0;36m_filtered_call\u001b[0;34m(self, args, kwargs)\u001b[0m\n\u001b[1;32m   1139\u001b[0m          if isinstance(t, (ops.Tensor,\n\u001b[1;32m   1140\u001b[0m                            resource_variable_ops.BaseResourceVariable))),\n\u001b[0;32m-> 1141\u001b[0;31m         self.captured_inputs)\n\u001b[0m\u001b[1;32m   1142\u001b[0m \u001b[0;34m\u001b[0m\u001b[0m\n\u001b[1;32m   1143\u001b[0m   \u001b[0;32mdef\u001b[0m \u001b[0m_call_flat\u001b[0m\u001b[0;34m(\u001b[0m\u001b[0mself\u001b[0m\u001b[0;34m,\u001b[0m \u001b[0margs\u001b[0m\u001b[0;34m,\u001b[0m \u001b[0mcaptured_inputs\u001b[0m\u001b[0;34m,\u001b[0m \u001b[0mcancellation_manager\u001b[0m\u001b[0;34m=\u001b[0m\u001b[0;32mNone\u001b[0m\u001b[0;34m)\u001b[0m\u001b[0;34m:\u001b[0m\u001b[0;34m\u001b[0m\u001b[0;34m\u001b[0m\u001b[0m\n",
            "\u001b[0;32m/tensorflow-2.0.0/python3.6/tensorflow_core/python/eager/function.py\u001b[0m in \u001b[0;36m_call_flat\u001b[0;34m(self, args, captured_inputs, cancellation_manager)\u001b[0m\n\u001b[1;32m   1222\u001b[0m     \u001b[0;32mif\u001b[0m \u001b[0mexecuting_eagerly\u001b[0m\u001b[0;34m:\u001b[0m\u001b[0;34m\u001b[0m\u001b[0;34m\u001b[0m\u001b[0m\n\u001b[1;32m   1223\u001b[0m       flat_outputs = forward_function.call(\n\u001b[0;32m-> 1224\u001b[0;31m           ctx, args, cancellation_manager=cancellation_manager)\n\u001b[0m\u001b[1;32m   1225\u001b[0m     \u001b[0;32melse\u001b[0m\u001b[0;34m:\u001b[0m\u001b[0;34m\u001b[0m\u001b[0;34m\u001b[0m\u001b[0m\n\u001b[1;32m   1226\u001b[0m       \u001b[0mgradient_name\u001b[0m \u001b[0;34m=\u001b[0m \u001b[0mself\u001b[0m\u001b[0;34m.\u001b[0m\u001b[0m_delayed_rewrite_functions\u001b[0m\u001b[0;34m.\u001b[0m\u001b[0mregister\u001b[0m\u001b[0;34m(\u001b[0m\u001b[0;34m)\u001b[0m\u001b[0;34m\u001b[0m\u001b[0;34m\u001b[0m\u001b[0m\n",
            "\u001b[0;32m/tensorflow-2.0.0/python3.6/tensorflow_core/python/eager/function.py\u001b[0m in \u001b[0;36mcall\u001b[0;34m(self, ctx, args, cancellation_manager)\u001b[0m\n\u001b[1;32m    509\u001b[0m               \u001b[0minputs\u001b[0m\u001b[0;34m=\u001b[0m\u001b[0margs\u001b[0m\u001b[0;34m,\u001b[0m\u001b[0;34m\u001b[0m\u001b[0;34m\u001b[0m\u001b[0m\n\u001b[1;32m    510\u001b[0m               \u001b[0mattrs\u001b[0m\u001b[0;34m=\u001b[0m\u001b[0;34m(\u001b[0m\u001b[0;34m\"executor_type\"\u001b[0m\u001b[0;34m,\u001b[0m \u001b[0mexecutor_type\u001b[0m\u001b[0;34m,\u001b[0m \u001b[0;34m\"config_proto\"\u001b[0m\u001b[0;34m,\u001b[0m \u001b[0mconfig\u001b[0m\u001b[0;34m)\u001b[0m\u001b[0;34m,\u001b[0m\u001b[0;34m\u001b[0m\u001b[0;34m\u001b[0m\u001b[0m\n\u001b[0;32m--> 511\u001b[0;31m               ctx=ctx)\n\u001b[0m\u001b[1;32m    512\u001b[0m         \u001b[0;32melse\u001b[0m\u001b[0;34m:\u001b[0m\u001b[0;34m\u001b[0m\u001b[0;34m\u001b[0m\u001b[0m\n\u001b[1;32m    513\u001b[0m           outputs = execute.execute_with_cancellation(\n",
            "\u001b[0;32m/tensorflow-2.0.0/python3.6/tensorflow_core/python/eager/execute.py\u001b[0m in \u001b[0;36mquick_execute\u001b[0;34m(op_name, num_outputs, inputs, attrs, ctx, name)\u001b[0m\n\u001b[1;32m     59\u001b[0m     tensors = pywrap_tensorflow.TFE_Py_Execute(ctx._handle, device_name,\n\u001b[1;32m     60\u001b[0m                                                \u001b[0mop_name\u001b[0m\u001b[0;34m,\u001b[0m \u001b[0minputs\u001b[0m\u001b[0;34m,\u001b[0m \u001b[0mattrs\u001b[0m\u001b[0;34m,\u001b[0m\u001b[0;34m\u001b[0m\u001b[0;34m\u001b[0m\u001b[0m\n\u001b[0;32m---> 61\u001b[0;31m                                                num_outputs)\n\u001b[0m\u001b[1;32m     62\u001b[0m   \u001b[0;32mexcept\u001b[0m \u001b[0mcore\u001b[0m\u001b[0;34m.\u001b[0m\u001b[0m_NotOkStatusException\u001b[0m \u001b[0;32mas\u001b[0m \u001b[0me\u001b[0m\u001b[0;34m:\u001b[0m\u001b[0;34m\u001b[0m\u001b[0;34m\u001b[0m\u001b[0m\n\u001b[1;32m     63\u001b[0m     \u001b[0;32mif\u001b[0m \u001b[0mname\u001b[0m \u001b[0;32mis\u001b[0m \u001b[0;32mnot\u001b[0m \u001b[0;32mNone\u001b[0m\u001b[0;34m:\u001b[0m\u001b[0;34m\u001b[0m\u001b[0;34m\u001b[0m\u001b[0m\n",
            "\u001b[0;31mKeyboardInterrupt\u001b[0m: "
          ]
        }
      ]
    },
    {
      "cell_type": "markdown",
      "metadata": {
        "id": "CaIfIk50UFu3",
        "colab_type": "text"
      },
      "source": [
        "## Tensorflow Datasets\n",
        "\n",
        "В Tensorflow встроен прекрасный механизм обработки поступающих на вход данных для нейронной сети.\n",
        "\n",
        "При помощи этого механизма можно легко группировать данные как хочется и применять к ним модификации."
      ]
    },
    {
      "cell_type": "code",
      "metadata": {
        "id": "bIp-qmpIUYlD",
        "colab_type": "code",
        "colab": {}
      },
      "source": [
        "# More on available sources of data here: https://www.tensorflow.org/guide/data#reading_input_data\n",
        "\n",
        "train_dataset = tf.data.Dataset.from_tensor_slices((x_train, y_train))\n",
        "test_dataset = tf.data.Dataset.from_tensor_slices((x_test, y_test))"
      ],
      "execution_count": 0,
      "outputs": []
    },
    {
      "cell_type": "code",
      "metadata": {
        "id": "sf7uq5c2VcU0",
        "colab_type": "code",
        "outputId": "cfc14f28-806f-4d93-97a1-594f48c3dc9e",
        "colab": {
          "base_uri": "https://localhost:8080/",
          "height": 53
        }
      },
      "source": [
        "for element in train_dataset:\n",
        "  print('Input shape:', element[0].shape)\n",
        "  print('Target value:', element[1])\n",
        "  break"
      ],
      "execution_count": 36,
      "outputs": [
        {
          "output_type": "stream",
          "text": [
            "Input shape: (28, 28)\n",
            "Target value: tf.Tensor(5, shape=(), dtype=uint8)\n"
          ],
          "name": "stdout"
        }
      ]
    },
    {
      "cell_type": "code",
      "metadata": {
        "id": "0KXKUnMSV1SH",
        "colab_type": "code",
        "colab": {}
      },
      "source": [
        "@tf.function\n",
        "def apply_random_image_augmentation(image, crop_size=0.8):\n",
        "  # More functions are available in Tensorflow Addons:\n",
        "  # https://www.tensorflow.org/addons/api_docs/python/tfa/image\n",
        "  orig_image_shape = np.array(image.shape.as_list())\n",
        "  new_size = tf.dtypes.cast(orig_image_shape * crop_size, dtype=tf.int32)\n",
        "\n",
        "  cropped_image = tf.image.random_crop(image, new_size)\n",
        "  image_with_channels = tf.expand_dims(cropped_image, -1)\n",
        "\n",
        "  cropped_image = tf.image.resize(image_with_channels, orig_image_shape)\n",
        "  return cropped_image[:, :, 0]\n",
        "\n",
        "def apply_random_augmentation_to_ds(image, label):\n",
        "  return apply_random_image_augmentation(image), label"
      ],
      "execution_count": 0,
      "outputs": []
    },
    {
      "cell_type": "code",
      "metadata": {
        "id": "uj2gE1U3Yk48",
        "colab_type": "code",
        "outputId": "71d35a0d-9033-423c-b17b-30f1d6833b7c",
        "colab": {
          "base_uri": "https://localhost:8080/",
          "height": 1000
        }
      },
      "source": [
        "augmented_train = train_dataset.map(apply_random_augmentation_to_ds,\n",
        "                                    # Tune the number of parallel calls automatically\n",
        "                                    num_parallel_calls=tf.data.experimental.AUTOTUNE)\n",
        "for i, element in enumerate(augmented_train):\n",
        "  if i > 3:\n",
        "    break\n",
        "  image = element[0]\n",
        "  plt.imshow(image.numpy())\n",
        "  plt.show()"
      ],
      "execution_count": 39,
      "outputs": [
        {
          "output_type": "display_data",
          "data": {
            "image/png": "[encoded data removed]",
            "text/plain": [
              "<Figure size 432x288 with 1 Axes>"
            ]
          },
          "metadata": {
            "tags": []
          }
        },
        {
          "output_type": "display_data",
          "data": {
            "image/png": "[encoded data removed]",
            "text/plain": [
              "<Figure size 432x288 with 1 Axes>"
            ]
          },
          "metadata": {
            "tags": []
          }
        },
        {
          "output_type": "display_data",
          "data": {
            "image/png": "[encoded data removed]",
            "text/plain": [
              "<Figure size 432x288 with 1 Axes>"
            ]
          },
          "metadata": {
            "tags": []
          }
        },
        {
          "output_type": "display_data",
          "data": {
            "image/png": "[encoded data removed]",
            "text/plain": [
              "<Figure size 432x288 with 1 Axes>"
            ]
          },
          "metadata": {
            "tags": []
          }
        }
      ]
    },
    {
      "cell_type": "code",
      "metadata": {
        "id": "1ofI_nK9Yzr6",
        "colab_type": "code",
        "colab": {}
      },
      "source": [
        "# Prefetch 1000 augmented images\n",
        "augmented_train = augmented_train.prefetch(1000) # закэшируем в оперативной памяти 1000 массивов\n",
        "# Batch size of 64\n",
        "augmented_train = augmented_train.batch(64)\n",
        "\n",
        "test_dataset = test_dataset.prefetch(1000)\n",
        "test_dataset = test_dataset.batch(64)"
      ],
      "execution_count": 0,
      "outputs": []
    },
    {
      "cell_type": "code",
      "metadata": {
        "id": "Z-NhpJrFcroj",
        "colab_type": "code",
        "outputId": "07f3b1da-bff1-4378-ac7d-f4f960879ff7",
        "colab": {
          "base_uri": "https://localhost:8080/",
          "height": 755
        }
      },
      "source": [
        "# Any model here would work\n",
        "my_super_model = MySuperModel(5, 100)\n",
        "my_super_model.compile(optimizer='adam',\n",
        "                       loss='sparse_categorical_crossentropy',\n",
        "                       metrics=['accuracy'])\n",
        "\n",
        "# Early stopping on validation accuracy with ease!\n",
        "early_stopping = tf.keras.callbacks.EarlyStopping(monitor='val_accuracy', mode='max', patience=5)\n",
        "my_super_model.fit(augmented_train, epochs=20,\n",
        "                   validation_data=test_dataset,\n",
        "                   callbacks=[early_stopping])"
      ],
      "execution_count": 41,
      "outputs": [
        {
          "output_type": "stream",
          "text": [
            "Epoch 1/20\n",
            "938/938 [==============================] - 13s 14ms/step - loss: 0.5585 - accuracy: 0.8184 - val_loss: 0.0000e+00 - val_accuracy: 0.0000e+00\n",
            "Epoch 2/20\n",
            "938/938 [==============================] - 10s 10ms/step - loss: 0.2637 - accuracy: 0.9194 - val_loss: 1.1728 - val_accuracy: 0.6593\n",
            "Epoch 3/20\n",
            "938/938 [==============================] - 10s 11ms/step - loss: 0.2211 - accuracy: 0.9325 - val_loss: 0.9425 - val_accuracy: 0.7250\n",
            "Epoch 4/20\n",
            "938/938 [==============================] - 10s 10ms/step - loss: 0.1910 - accuracy: 0.9421 - val_loss: 0.6170 - val_accuracy: 0.8133\n",
            "Epoch 5/20\n",
            "938/938 [==============================] - 10s 11ms/step - loss: 0.1782 - accuracy: 0.9458 - val_loss: 0.6269 - val_accuracy: 0.7980\n",
            "Epoch 6/20\n",
            "938/938 [==============================] - 10s 11ms/step - loss: 0.1632 - accuracy: 0.9496 - val_loss: 0.5264 - val_accuracy: 0.8260\n",
            "Epoch 7/20\n",
            "938/938 [==============================] - 10s 11ms/step - loss: 0.1566 - accuracy: 0.9522 - val_loss: 0.4900 - val_accuracy: 0.8440\n",
            "Epoch 8/20\n",
            "938/938 [==============================] - 10s 11ms/step - loss: 0.1508 - accuracy: 0.9541 - val_loss: 0.5987 - val_accuracy: 0.8081\n",
            "Epoch 9/20\n",
            "938/938 [==============================] - 10s 11ms/step - loss: 0.1349 - accuracy: 0.9586 - val_loss: 0.3859 - val_accuracy: 0.8731\n",
            "Epoch 10/20\n",
            "938/938 [==============================] - 10s 11ms/step - loss: 0.1328 - accuracy: 0.9593 - val_loss: 0.5621 - val_accuracy: 0.8135\n",
            "Epoch 11/20\n",
            "938/938 [==============================] - 10s 11ms/step - loss: 0.1296 - accuracy: 0.9602 - val_loss: 0.3819 - val_accuracy: 0.8749\n",
            "Epoch 12/20\n",
            "938/938 [==============================] - 10s 11ms/step - loss: 0.1259 - accuracy: 0.9622 - val_loss: 0.3463 - val_accuracy: 0.8920\n",
            "Epoch 13/20\n",
            "938/938 [==============================] - 10s 11ms/step - loss: 0.1196 - accuracy: 0.9636 - val_loss: 0.3389 - val_accuracy: 0.8888\n",
            "Epoch 14/20\n",
            "938/938 [==============================] - 10s 11ms/step - loss: 0.1188 - accuracy: 0.9642 - val_loss: 0.3904 - val_accuracy: 0.8762\n",
            "Epoch 15/20\n",
            "938/938 [==============================] - 10s 11ms/step - loss: 0.1146 - accuracy: 0.9649 - val_loss: 0.2519 - val_accuracy: 0.9248\n",
            "Epoch 16/20\n",
            "938/938 [==============================] - 10s 11ms/step - loss: 0.1105 - accuracy: 0.9665 - val_loss: 0.3645 - val_accuracy: 0.8848\n",
            "Epoch 17/20\n",
            "938/938 [==============================] - 10s 11ms/step - loss: 0.1112 - accuracy: 0.9674 - val_loss: 0.3433 - val_accuracy: 0.8880\n",
            "Epoch 18/20\n",
            "938/938 [==============================] - 10s 10ms/step - loss: 0.1060 - accuracy: 0.9674 - val_loss: 0.3028 - val_accuracy: 0.9074\n",
            "Epoch 19/20\n",
            "938/938 [==============================] - 10s 11ms/step - loss: 0.1067 - accuracy: 0.9672 - val_loss: 0.2742 - val_accuracy: 0.9077\n",
            "Epoch 20/20\n",
            "938/938 [==============================] - 10s 11ms/step - loss: 0.1009 - accuracy: 0.9695 - val_loss: 0.2930 - val_accuracy: 0.9122\n"
          ],
          "name": "stdout"
        },
        {
          "output_type": "execute_result",
          "data": {
            "text/plain": [
              "<tensorflow.python.keras.callbacks.History at 0x7f9d9b03a6d8>"
            ]
          },
          "metadata": {
            "tags": []
          },
          "execution_count": 41
        }
      ]
    },
    {
      "cell_type": "code",
      "metadata": {
        "id": "dETClv35fWCy",
        "colab_type": "code",
        "colab": {}
      },
      "source": [
        ""
      ],
      "execution_count": 0,
      "outputs": []
    }
  ]
}