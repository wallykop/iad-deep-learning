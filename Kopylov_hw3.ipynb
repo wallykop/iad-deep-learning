{
  "nbformat": 4,
  "nbformat_minor": 0,
  "metadata": {
    "accelerator": "GPU",
    "colab": {
      "name": "Kopylov_hw3.ipynb",
      "provenance": [],
      "collapsed_sections": [],
      "include_colab_link": true
    },
    "kernelspec": {
      "name": "python3",
      "display_name": "Python 3"
    },
    "language_info": {
      "codemirror_mode": {
        "name": "ipython",
        "version": 3
      },
      "file_extension": ".py",
      "mimetype": "text/x-python",
      "name": "python",
      "nbconvert_exporter": "python",
      "pygments_lexer": "ipython3",
      "version": "3.7.3"
    }
  },
  "cells": [
    {
      "cell_type": "markdown",
      "metadata": {
        "id": "view-in-github",
        "colab_type": "text"
      },
      "source": [
        "<a href=\"https://colab.research.google.com/github/wallykop/iad-deep-learning/blob/master/Kopylov_hw3.ipynb\" target=\"_parent\"><img src=\"https://colab.research.google.com/assets/colab-badge.svg\" alt=\"Open In Colab\"/></a>"
      ]
    },
    {
      "cell_type": "markdown",
      "metadata": {
        "colab_type": "text",
        "id": "gO2BchskQWoH"
      },
      "source": [
        "# Домашнее задание 3.\n",
        "\n",
        "`Keras` и сверточные нейронные сети."
      ]
    },
    {
      "cell_type": "code",
      "metadata": {
        "colab_type": "code",
        "id": "WmIuIaLEATMn",
        "outputId": "899fe0ec-e6a9-44b0-dd3d-f117f4f0d6c5",
        "colab": {
          "base_uri": "https://localhost:8080/",
          "height": 118
        }
      },
      "source": [
        "import tensorflow as tf\n",
        "import keras\n",
        "from keras import backend as K\n",
        "import numpy as np\n",
        "%matplotlib inline\n",
        "import matplotlib.pyplot as plt\n",
        "print(tf.__version__)\n",
        "print(keras.__version__)"
      ],
      "execution_count": 1,
      "outputs": [
        {
          "output_type": "display_data",
          "data": {
            "text/html": [
              "<p style=\"color: red;\">\n",
              "The default version of TensorFlow in Colab will soon switch to TensorFlow 2.x.<br>\n",
              "We recommend you <a href=\"https://www.tensorflow.org/guide/migrate\" target=\"_blank\">upgrade</a> now \n",
              "or ensure your notebook will continue to use TensorFlow 1.x via the <code>%tensorflow_version 1.x</code> magic:\n",
              "<a href=\"https://colab.research.google.com/notebooks/tensorflow_version.ipynb\" target=\"_blank\">more info</a>.</p>\n"
            ],
            "text/plain": [
              "<IPython.core.display.HTML object>"
            ]
          },
          "metadata": {
            "tags": []
          }
        },
        {
          "output_type": "stream",
          "text": [
            "1.15.0\n",
            "2.2.5\n"
          ],
          "name": "stdout"
        },
        {
          "output_type": "stream",
          "text": [
            "Using TensorFlow backend.\n"
          ],
          "name": "stderr"
        }
      ]
    },
    {
      "cell_type": "code",
      "metadata": {
        "colab_type": "code",
        "id": "efsrp4vQfls5",
        "colab": {}
      },
      "source": [
        "def reset_tf_session():\n",
        "    curr_session = tf.get_default_session()\n",
        "    if curr_session is not None:\n",
        "        curr_session.close()\n",
        "    K.clear_session()\n",
        "    config = tf.ConfigProto()\n",
        "    config.gpu_options.allow_growth = True\n",
        "    s = tf.InteractiveSession(config=config)\n",
        "    K.set_session(s)\n",
        "    return s"
      ],
      "execution_count": 0,
      "outputs": []
    },
    {
      "cell_type": "markdown",
      "metadata": {
        "colab_type": "text",
        "id": "HE_SpMQMQm8Y"
      },
      "source": [
        "## Задание 1 — инициализация весов CNN (3 балла).\n",
        "\n",
        "В этом задании нужно будет исследовать, как выбор функции инициализации весов влияет на обучение CNN.\n"
      ]
    },
    {
      "cell_type": "markdown",
      "metadata": {
        "colab_type": "text",
        "id": "oIoAOXkJSwbs"
      },
      "source": [
        "Продолжим работать с датасетом CIFAR-10."
      ]
    },
    {
      "cell_type": "code",
      "metadata": {
        "colab_type": "code",
        "id": "IsuA4kiHA4ff",
        "outputId": "82015193-4dc6-40cc-e1ea-083eeb59f1dd",
        "colab": {
          "base_uri": "https://localhost:8080/",
          "height": 89
        }
      },
      "source": [
        "from keras.datasets import cifar10\n",
        "(x_train, y_train), (x_test, y_test) = cifar10.load_data()\n",
        "\n",
        "NUM_CLASSES = 10\n",
        "cifar10_classes = [\"airplane\", \"automobile\", \"bird\", \"cat\", \"deer\", \n",
        "                   \"dog\", \"frog\", \"horse\", \"ship\", \"truck\"]\n",
        "\n",
        "print(\"Train samples:\", x_train.shape, y_train.shape)\n",
        "print(\"Test samples:\", x_test.shape, y_test.shape)\n",
        "\n",
        "# нормализуем входные данные\n",
        "x_train = x_train / 255 - 0.5\n",
        "x_test = x_test / 255 - 0.5\n",
        "\n",
        "y_train = keras.utils.to_categorical(y_train, 10)\n",
        "y_test = keras.utils.to_categorical(y_test, 10)"
      ],
      "execution_count": 3,
      "outputs": [
        {
          "output_type": "stream",
          "text": [
            "Downloading data from https://www.cs.toronto.edu/~kriz/cifar-10-python.tar.gz\n",
            "170500096/170498071 [==============================] - 11s 0us/step\n",
            "Train samples: (50000, 32, 32, 3) (50000, 1)\n",
            "Test samples: (10000, 32, 32, 3) (10000, 1)\n"
          ],
          "name": "stdout"
        }
      ]
    },
    {
      "cell_type": "code",
      "metadata": {
        "colab_type": "code",
        "id": "xNl2e8LeftcC",
        "colab": {}
      },
      "source": [
        "from keras.models import Sequential\n",
        "from keras.layers import Conv2D, MaxPooling2D, Flatten, Dense, Activation, Dropout\n",
        "from keras.layers.advanced_activations import LeakyReLU\n",
        "from keras.models import load_model"
      ],
      "execution_count": 0,
      "outputs": []
    },
    {
      "cell_type": "markdown",
      "metadata": {
        "colab_type": "text",
        "id": "f2vQIUE3UeiE"
      },
      "source": [
        "Определим функцию `fit_model` с архитектурой архитектура CNN.\n",
        "\n",
        "Метод `model.fit` возвращает объект класса `keras.callbacks.History()` — это колбэк, который автоматически применяется ко всем моделям и логирует много чего полезного. В частности логируются значения функции потерь на каждой итерации."
      ]
    },
    {
      "cell_type": "markdown",
      "metadata": {
        "colab_type": "text",
        "id": "dDslR6vNZry8"
      },
      "source": [
        "**Задание 1.1** (0.5 балла) Добавьте в архитектуру модели инициализацию весов для тех слоев, где она необходима.\n"
      ]
    },
    {
      "cell_type": "code",
      "metadata": {
        "colab_type": "code",
        "id": "2_Lu7SO3CMid",
        "colab": {}
      },
      "source": [
        "def fit_model(initializer='glorot_normal'):\n",
        "    s = reset_tf_session()  \n",
        "    INIT_LR = 5e-3\n",
        "    BATCH_SIZE = 32\n",
        "    EPOCHS = 10\n",
        "   \n",
        "    def lr_scheduler(epoch):\n",
        "        return INIT_LR * 0.9 ** epoch  \n",
        "\n",
        "    ### YOUR CODE HERE \n",
        "    # kernel_initializer=initializer для тех слоев, которым нужна инициализация весов\n",
        "    model = Sequential()\n",
        "    model.add(Conv2D(filters=16, padding='same', kernel_size=(3,3), input_shape=(32,32,3), kernel_initializer=initializer))\n",
        "    model.add(LeakyReLU(0.1))\n",
        "    model.add(Conv2D(filters=64, padding='same', kernel_size=(3,3), kernel_initializer=initializer))  \n",
        "    model.add(LeakyReLU(0.1))\n",
        "    model.add(MaxPooling2D(pool_size=(2,2), padding='same'))\n",
        "    model.add(Dropout(0.25))\n",
        "    model.add(Flatten())\n",
        "    model.add(Dense(40, kernel_initializer=initializer))\n",
        "    model.add(LeakyReLU(0.1))\n",
        "    model.add(Dropout(0.5))    \n",
        "    model.add(Dense(10, kernel_initializer=initializer))\n",
        "    model.add(Activation(\"softmax\"))\n",
        "\n",
        "\n",
        "    model.compile(\n",
        "        loss='categorical_crossentropy',\n",
        "        optimizer=keras.optimizers.adamax(lr=INIT_LR),\n",
        "        metrics=['accuracy']\n",
        "    )\n",
        "  \n",
        "    history = model.fit(\n",
        "        x_train, y_train,\n",
        "        batch_size=BATCH_SIZE,\n",
        "        epochs=EPOCHS,\n",
        "        callbacks=[keras.callbacks.LearningRateScheduler(lr_scheduler)],                   \n",
        "        shuffle=True,\n",
        "        verbose=0,\n",
        "        initial_epoch=0    \n",
        "    )\n",
        "\n",
        "    # Возвращаем объект класса keras.callbacks.History\n",
        "    return history\n"
      ],
      "execution_count": 0,
      "outputs": []
    },
    {
      "cell_type": "markdown",
      "metadata": {
        "colab_type": "text",
        "id": "bYkZkghfT4uN"
      },
      "source": [
        "**Задание 1.2** (1.5 балла). Обучите модель с разными [функциями инициализации](https://keras.io/initializers/) весов:\n",
        "* `Zeros` — веса инициализируются нулями\n",
        "* `Constant=0.05` — веса инициализируются константой 0.05\n",
        "* `RandomUniform` — веса генерируются равномерно из отрезка [-0.05, 0.05]\n",
        "* `glorot_normal` — Xavier initializer из лекций\n",
        "* `lecun_uniform`\n",
        "\n",
        "Добавьте в список `losses` значения функции потерь для каждой функции инициализации, их можно достать из `History`\n",
        "\n"
      ]
    },
    {
      "cell_type": "code",
      "metadata": {
        "colab_type": "code",
        "id": "dTieYmgUmQ8G",
        "colab": {
          "base_uri": "https://localhost:8080/",
          "height": 451
        },
        "outputId": "bd524963-6036-44a0-a706-fc3ee74c19ec"
      },
      "source": [
        "losses = []\n",
        "\n",
        "losses.append(fit_model(keras.initializers.Zeros()).history['loss'])\n",
        "losses.append(fit_model(keras.initializers.constant(value = 0.05)).history['loss'])\n",
        "losses.append(fit_model(keras.initializers.random_uniform(-0.05, 0.05)).history['loss'])\n",
        "losses.append(fit_model().history['loss'])\n",
        "losses.append(fit_model(keras.initializers.lecun_uniform()).history['loss'])"
      ],
      "execution_count": 8,
      "outputs": [
        {
          "output_type": "stream",
          "text": [
            "WARNING:tensorflow:From /usr/local/lib/python3.6/dist-packages/keras/optimizers.py:793: The name tf.train.Optimizer is deprecated. Please use tf.compat.v1.train.Optimizer instead.\n",
            "\n",
            "WARNING:tensorflow:From /usr/local/lib/python3.6/dist-packages/keras/backend/tensorflow_backend.py:3576: The name tf.log is deprecated. Please use tf.math.log instead.\n",
            "\n",
            "WARNING:tensorflow:From /usr/local/lib/python3.6/dist-packages/tensorflow_core/python/ops/math_grad.py:1424: where (from tensorflow.python.ops.array_ops) is deprecated and will be removed in a future version.\n",
            "Instructions for updating:\n",
            "Use tf.where in 2.0, which has the same broadcast rule as np.where\n",
            "WARNING:tensorflow:From /usr/local/lib/python3.6/dist-packages/keras/backend/tensorflow_backend.py:1033: The name tf.assign_add is deprecated. Please use tf.compat.v1.assign_add instead.\n",
            "\n",
            "WARNING:tensorflow:From /usr/local/lib/python3.6/dist-packages/keras/backend/tensorflow_backend.py:1020: The name tf.assign is deprecated. Please use tf.compat.v1.assign instead.\n",
            "\n",
            "WARNING:tensorflow:From /usr/local/lib/python3.6/dist-packages/keras/backend/tensorflow_backend.py:3005: The name tf.Session is deprecated. Please use tf.compat.v1.Session instead.\n",
            "\n",
            "WARNING:tensorflow:From /usr/local/lib/python3.6/dist-packages/keras/backend/tensorflow_backend.py:207: The name tf.global_variables is deprecated. Please use tf.compat.v1.global_variables instead.\n",
            "\n",
            "WARNING:tensorflow:From /usr/local/lib/python3.6/dist-packages/keras/backend/tensorflow_backend.py:216: The name tf.is_variable_initialized is deprecated. Please use tf.compat.v1.is_variable_initialized instead.\n",
            "\n",
            "WARNING:tensorflow:From /usr/local/lib/python3.6/dist-packages/keras/backend/tensorflow_backend.py:223: The name tf.variables_initializer is deprecated. Please use tf.compat.v1.variables_initializer instead.\n",
            "\n",
            "WARNING:tensorflow:From /usr/local/lib/python3.6/dist-packages/keras/backend/tensorflow_backend.py:4432: The name tf.random_uniform is deprecated. Please use tf.random.uniform instead.\n",
            "\n",
            "WARNING:tensorflow:From /usr/local/lib/python3.6/dist-packages/keras/backend/tensorflow_backend.py:4479: The name tf.truncated_normal is deprecated. Please use tf.random.truncated_normal instead.\n",
            "\n"
          ],
          "name": "stdout"
        }
      ]
    },
    {
      "cell_type": "markdown",
      "metadata": {
        "colab_type": "text",
        "id": "wsk8bCEPcOav"
      },
      "source": [
        "**Задание 1.3** (1 балла). Постройте графики зависимости функций потерь от номера итерации, подпишите их. Прокомментируйте результат."
      ]
    },
    {
      "cell_type": "code",
      "metadata": {
        "colab_type": "code",
        "id": "3yqBZIYEAPWZ",
        "outputId": "aafdd7d9-b9b0-42bd-b83c-809d8b2d0cb4",
        "colab": {
          "base_uri": "https://localhost:8080/",
          "height": 911
        }
      },
      "source": [
        "label = ['zeros', 'constant', 'randomuniform', 'glorot_normal', 'lecun_uniform']\n",
        "\n",
        "plt.figure(figsize=(15,15))\n",
        "\n",
        "for i in range(0, len(losses)):\n",
        "  plt.plot(range(1, len(losses[i]) + 1), losses[i], label=label[i])\n",
        "  \n",
        "plt.title('Behavior of Loss in various weight initializations')\n",
        "plt.xlabel('Iteration/Epoch')\n",
        "plt.ylabel('Loss')\n",
        "plt.legend()\n"
      ],
      "execution_count": 9,
      "outputs": [
        {
          "output_type": "execute_result",
          "data": {
            "text/plain": [
              "<matplotlib.legend.Legend at 0x7ff9824a5278>"
            ]
          },
          "metadata": {
            "tags": []
          },
          "execution_count": 9
        },
        {
          "output_type": "display_data",
          "data": {
            "image/png": "[encoded data removed]",
            "text/plain": [
              "<Figure size 1080x1080 with 1 Axes>"
            ]
          },
          "metadata": {
            "tags": []
          }
        }
      ]
    },
    {
      "cell_type": "markdown",
      "metadata": {
        "id": "VF0Sk8HPwdTY",
        "colab_type": "text"
      },
      "source": [
        "**Мы видим, что если задавать нулевую инициализацию на веса или константную, то наш лосс уменьшается значительно медленее, поскольку, вероятно, значения вектора градиента для обновления весов практически одинаковы, что замедляет процесс обучения.**\n",
        "\n",
        "**При задании случайных распределений, мы видим явное уменьшение в лоссе, и таким образом, инициализация весов позволяет нам получить различные значения вектора градиента, что и ускоряет процесс обучения.**\n"
      ]
    },
    {
      "cell_type": "markdown",
      "metadata": {
        "colab_type": "text",
        "id": "nellCcusBAZ8"
      },
      "source": [
        "## Задание 2 — CNN для CIFAR-10 с сохранением весов модели (7 баллов)\n",
        "\n",
        "В этом задании мы модифицируем нейросеть с семинара, чтобы она достигала большего значения `accuracy` и научимся сохранять веса модели в файл во время обучения. Можно использовать только те же слои, которые использовались на семинаре: `Conv2D, MaxPooling2D,  LeakyReLU, Dropout, Flatten, Dense`."
      ]
    },
    {
      "cell_type": "markdown",
      "metadata": {
        "colab_type": "text",
        "id": "xuVF3c2qJwyx"
      },
      "source": [
        "**Задание 2.1** (4 балла). Подберите архитектуру модели так, чтобы значение `accuracy` на тестовой выборке было не менее 85."
      ]
    },
    {
      "cell_type": "code",
      "metadata": {
        "id": "N7R81HackCnT",
        "colab_type": "code",
        "colab": {}
      },
      "source": [
        "?Conv2D"
      ],
      "execution_count": 0,
      "outputs": []
    },
    {
      "cell_type": "code",
      "metadata": {
        "colab_type": "code",
        "id": "syKDJPUdCtoI",
        "colab": {}
      },
      "source": [
        "def make_model():    \n",
        "\n",
        "    model = Sequential()\n",
        "    model.add(Conv2D(32, padding='same', kernel_size=(3,3), kernel_initializer='lecun_uniform', input_shape=(32,32,3)))\n",
        "    model.add(LeakyReLU(0.1))\n",
        "    model.add(Conv2D(32, padding='same', kernel_size=(3,3), kernel_initializer='lecun_uniform'))\n",
        "    model.add(LeakyReLU(0.1))\n",
        "    model.add(MaxPooling2D((2,2)))\n",
        "    model.add(Dropout(0.2))\n",
        "    \n",
        "    model.add(Conv2D(64, padding='same', kernel_size=(3,3), kernel_initializer='lecun_uniform'))\n",
        "    model.add(LeakyReLU(0.1))\n",
        "    model.add(Conv2D(64, padding='same', kernel_size=(3,3), kernel_initializer='lecun_uniform'))\n",
        "    model.add(LeakyReLU(0.1))\n",
        "    model.add(MaxPooling2D((2,2)))\n",
        "    model.add(Dropout(0.3))\n",
        "\n",
        "    model.add(Conv2D(128, padding='same', kernel_size=(3,3), kernel_initializer='lecun_uniform'))\n",
        "    model.add(LeakyReLU(0.1))\n",
        "    model.add(Conv2D(128, padding='same', kernel_size=(3,3), kernel_initializer='lecun_uniform'))\n",
        "    model.add(LeakyReLU(0.1))\n",
        "    model.add(MaxPooling2D((2,2)))\n",
        "    model.add(Dropout(0.4))\n",
        "\n",
        "    model.add(Flatten())\n",
        "    model.add(Dense(1024, kernel_initializer='lecun_uniform'))\n",
        "    model.add(LeakyReLU(0.1))\n",
        "    model.add(Dropout(0.5))\n",
        "    model.add(Dense(10, kernel_initializer='lecun_uniform'))\n",
        "    model.add(Activation('softmax'))\n",
        "\n",
        "    return model\n",
        "        "
      ],
      "execution_count": 0,
      "outputs": []
    },
    {
      "cell_type": "code",
      "metadata": {
        "colab_type": "code",
        "id": "MoZifjkgFdcg",
        "outputId": "1eca2b46-4f1c-47fc-e038-fe56749b42c8",
        "colab": {
          "base_uri": "https://localhost:8080/",
          "height": 1000
        }
      },
      "source": [
        "s = reset_tf_session()\n",
        "model = make_model()\n",
        "model.summary()"
      ],
      "execution_count": 21,
      "outputs": [
        {
          "output_type": "stream",
          "text": [
            "Model: \"sequential_1\"\n",
            "_________________________________________________________________\n",
            "Layer (type)                 Output Shape              Param #   \n",
            "=================================================================\n",
            "conv2d_1 (Conv2D)            (None, 32, 32, 32)        896       \n",
            "_________________________________________________________________\n",
            "leaky_re_lu_1 (LeakyReLU)    (None, 32, 32, 32)        0         \n",
            "_________________________________________________________________\n",
            "conv2d_2 (Conv2D)            (None, 32, 32, 32)        9248      \n",
            "_________________________________________________________________\n",
            "leaky_re_lu_2 (LeakyReLU)    (None, 32, 32, 32)        0         \n",
            "_________________________________________________________________\n",
            "max_pooling2d_1 (MaxPooling2 (None, 16, 16, 32)        0         \n",
            "_________________________________________________________________\n",
            "dropout_1 (Dropout)          (None, 16, 16, 32)        0         \n",
            "_________________________________________________________________\n",
            "conv2d_3 (Conv2D)            (None, 16, 16, 64)        18496     \n",
            "_________________________________________________________________\n",
            "leaky_re_lu_3 (LeakyReLU)    (None, 16, 16, 64)        0         \n",
            "_________________________________________________________________\n",
            "conv2d_4 (Conv2D)            (None, 16, 16, 64)        36928     \n",
            "_________________________________________________________________\n",
            "leaky_re_lu_4 (LeakyReLU)    (None, 16, 16, 64)        0         \n",
            "_________________________________________________________________\n",
            "max_pooling2d_2 (MaxPooling2 (None, 8, 8, 64)          0         \n",
            "_________________________________________________________________\n",
            "dropout_2 (Dropout)          (None, 8, 8, 64)          0         \n",
            "_________________________________________________________________\n",
            "conv2d_5 (Conv2D)            (None, 8, 8, 128)         73856     \n",
            "_________________________________________________________________\n",
            "leaky_re_lu_5 (LeakyReLU)    (None, 8, 8, 128)         0         \n",
            "_________________________________________________________________\n",
            "conv2d_6 (Conv2D)            (None, 8, 8, 128)         147584    \n",
            "_________________________________________________________________\n",
            "leaky_re_lu_6 (LeakyReLU)    (None, 8, 8, 128)         0         \n",
            "_________________________________________________________________\n",
            "max_pooling2d_3 (MaxPooling2 (None, 4, 4, 128)         0         \n",
            "_________________________________________________________________\n",
            "dropout_3 (Dropout)          (None, 4, 4, 128)         0         \n",
            "_________________________________________________________________\n",
            "flatten_1 (Flatten)          (None, 2048)              0         \n",
            "_________________________________________________________________\n",
            "dense_1 (Dense)              (None, 1024)              2098176   \n",
            "_________________________________________________________________\n",
            "leaky_re_lu_7 (LeakyReLU)    (None, 1024)              0         \n",
            "_________________________________________________________________\n",
            "dropout_4 (Dropout)          (None, 1024)              0         \n",
            "_________________________________________________________________\n",
            "dense_2 (Dense)              (None, 10)                10250     \n",
            "_________________________________________________________________\n",
            "activation_1 (Activation)    (None, 10)                0         \n",
            "=================================================================\n",
            "Total params: 2,395,434\n",
            "Trainable params: 2,395,434\n",
            "Non-trainable params: 0\n",
            "_________________________________________________________________\n"
          ],
          "name": "stdout"
        }
      ]
    },
    {
      "cell_type": "markdown",
      "metadata": {
        "colab_type": "text",
        "id": "JJLpZQhJGBqL"
      },
      "source": [
        "**Задание 2.2** (2 балла). Реализуйте колбэк, который сохраняет модель в `.hdf5` файл и печатает имя файла, в который была сохранена модель. Используйте функцию `model_save`. Строка с именем файла имеет вид `<name>_{0:02d}.hdf5`, отформатируйте ее так, чтобы в имени строки фигурировал номер эпохи."
      ]
    },
    {
      "cell_type": "code",
      "metadata": {
        "colab_type": "code",
        "id": "xYjUeuDXGBII",
        "colab": {}
      },
      "source": [
        "from keras.models import save_model, load_model\n",
        "\n",
        "class ModelSaveCallback(keras.callbacks.Callback):\n",
        "\n",
        "    def __init__(self, file_name):\n",
        "        super(ModelSaveCallback, self).__init__()\n",
        "        self.file_name = file_name\n",
        "\n",
        "    def on_epoch_end(self, epoch, logs=None): \n",
        "      epoch += 1\n",
        "      save_model(model,\n",
        "                 f\"weights_{epoch:02d}.hdf5\")\n",
        "      print(f\"Saved weights_{epoch:02d}.hdf5\")"
      ],
      "execution_count": 0,
      "outputs": []
    },
    {
      "cell_type": "markdown",
      "metadata": {
        "colab_type": "text",
        "id": "Svrwkh8ALpHa"
      },
      "source": [
        "**Задание 2.3** (1 балл). Реализуйте функцию, которая с помощью `load_model` будет загружать модель из файла."
      ]
    },
    {
      "cell_type": "code",
      "metadata": {
        "colab_type": "code",
        "id": "fVD0P5V7M00C",
        "colab": {}
      },
      "source": [
        "def load_from_file(model_filename, last_epoch):\n",
        "  model = load_model(f\"weights_{last_epoch:02d}.hdf5\")\n",
        "  return model\n"
      ],
      "execution_count": 0,
      "outputs": []
    },
    {
      "cell_type": "code",
      "metadata": {
        "colab_type": "code",
        "id": "zOLb6flQFjCw",
        "outputId": "9aefd8d6-33e9-451b-eb2b-942da90c0c86",
        "colab": {
          "base_uri": "https://localhost:8080/",
          "height": 1000
        }
      },
      "source": [
        "INIT_LR = 5e-3\n",
        "BATCH_SIZE = 32\n",
        "EPOCHS = 20\n",
        "\n",
        "model_filename = 'weights_{0:02d}.hdf5'\n",
        "\n",
        "s = reset_tf_session()\n",
        "\n",
        "model = make_model()\n",
        "\n",
        "model.compile(\n",
        "    loss='categorical_crossentropy',\n",
        "    optimizer=keras.optimizers.adamax(lr=INIT_LR),\n",
        "    metrics=['accuracy']\n",
        ")\n",
        "\n",
        "def lr_scheduler(epoch):\n",
        "    return INIT_LR * 0.9 ** epoch \n",
        "\n",
        "# в случае, если обучение было прервано, можно загрузить модель из файла, \n",
        "# соответствующего последней эпохе, за которую есть сохраненные веса\n",
        "# model = load_from_file(model_filename, 2)\n",
        "  \n",
        "history = model.fit(\n",
        "    x_train, y_train,\n",
        "    batch_size=BATCH_SIZE,\n",
        "    epochs=EPOCHS,\n",
        "    callbacks=[keras.callbacks.LearningRateScheduler(lr_scheduler), \n",
        "               # не забудьте передать сюда ModelSaveCallback\n",
        "               ModelSaveCallback(model_filename)\n",
        "              ],\n",
        "    validation_data=(x_test, y_test),\n",
        "    shuffle=True,\n",
        "    verbose=1,\n",
        "    initial_epoch=0    \n",
        ")\n",
        "  "
      ],
      "execution_count": 24,
      "outputs": [
        {
          "output_type": "stream",
          "text": [
            "Train on 50000 samples, validate on 10000 samples\n",
            "Epoch 1/20\n",
            "50000/50000 [==============================] - 41s 826us/step - loss: 1.3701 - acc: 0.5033 - val_loss: 0.9853 - val_acc: 0.6549\n",
            "Saved weights_01.hdf5\n",
            "Epoch 2/20\n",
            "50000/50000 [==============================] - 38s 763us/step - loss: 0.9518 - acc: 0.6674 - val_loss: 0.7812 - val_acc: 0.7304\n",
            "Saved weights_02.hdf5\n",
            "Epoch 3/20\n",
            "50000/50000 [==============================] - 40s 804us/step - loss: 0.8163 - acc: 0.7137 - val_loss: 0.7234 - val_acc: 0.7559\n",
            "Saved weights_03.hdf5\n",
            "Epoch 4/20\n",
            "50000/50000 [==============================] - 41s 830us/step - loss: 0.7302 - acc: 0.7458 - val_loss: 0.7188 - val_acc: 0.7586\n",
            "Saved weights_04.hdf5\n",
            "Epoch 5/20\n",
            "50000/50000 [==============================] - 41s 825us/step - loss: 0.6701 - acc: 0.7677 - val_loss: 0.6005 - val_acc: 0.7987\n",
            "Saved weights_05.hdf5\n",
            "Epoch 6/20\n",
            "50000/50000 [==============================] - 40s 800us/step - loss: 0.6089 - acc: 0.7889 - val_loss: 0.6351 - val_acc: 0.7882\n",
            "Saved weights_06.hdf5\n",
            "Epoch 7/20\n",
            "50000/50000 [==============================] - 40s 794us/step - loss: 0.5666 - acc: 0.8049 - val_loss: 0.5720 - val_acc: 0.8083\n",
            "Saved weights_07.hdf5\n",
            "Epoch 8/20\n",
            "50000/50000 [==============================] - 40s 799us/step - loss: 0.5258 - acc: 0.8165 - val_loss: 0.5573 - val_acc: 0.8125\n",
            "Saved weights_08.hdf5\n",
            "Epoch 9/20\n",
            "50000/50000 [==============================] - 39s 783us/step - loss: 0.4918 - acc: 0.8295 - val_loss: 0.5403 - val_acc: 0.8171\n",
            "Saved weights_09.hdf5\n",
            "Epoch 10/20\n",
            "50000/50000 [==============================] - 39s 776us/step - loss: 0.4565 - acc: 0.8411 - val_loss: 0.5073 - val_acc: 0.8327\n",
            "Saved weights_10.hdf5\n",
            "Epoch 11/20\n",
            "50000/50000 [==============================] - 40s 807us/step - loss: 0.4297 - acc: 0.8512 - val_loss: 0.5291 - val_acc: 0.8328\n",
            "Saved weights_11.hdf5\n",
            "Epoch 12/20\n",
            "50000/50000 [==============================] - 40s 802us/step - loss: 0.4051 - acc: 0.8589 - val_loss: 0.4978 - val_acc: 0.8389\n",
            "Saved weights_12.hdf5\n",
            "Epoch 13/20\n",
            "50000/50000 [==============================] - 40s 808us/step - loss: 0.3825 - acc: 0.8652 - val_loss: 0.4929 - val_acc: 0.8425\n",
            "Saved weights_13.hdf5\n",
            "Epoch 14/20\n",
            "50000/50000 [==============================] - 40s 807us/step - loss: 0.3573 - acc: 0.8736 - val_loss: 0.5256 - val_acc: 0.8404\n",
            "Saved weights_14.hdf5\n",
            "Epoch 15/20\n",
            "50000/50000 [==============================] - 41s 815us/step - loss: 0.3417 - acc: 0.8795 - val_loss: 0.4984 - val_acc: 0.8481\n",
            "Saved weights_15.hdf5\n",
            "Epoch 16/20\n",
            "50000/50000 [==============================] - 39s 790us/step - loss: 0.3263 - acc: 0.8854 - val_loss: 0.4786 - val_acc: 0.8505\n",
            "Saved weights_16.hdf5\n",
            "Epoch 17/20\n",
            "50000/50000 [==============================] - 39s 780us/step - loss: 0.3084 - acc: 0.8915 - val_loss: 0.4767 - val_acc: 0.8508\n",
            "Saved weights_17.hdf5\n",
            "Epoch 18/20\n",
            "50000/50000 [==============================] - 40s 791us/step - loss: 0.2959 - acc: 0.8963 - val_loss: 0.4757 - val_acc: 0.8557\n",
            "Saved weights_18.hdf5\n",
            "Epoch 19/20\n",
            "50000/50000 [==============================] - 39s 783us/step - loss: 0.2858 - acc: 0.8997 - val_loss: 0.5050 - val_acc: 0.8532\n",
            "Saved weights_19.hdf5\n",
            "Epoch 20/20\n",
            "50000/50000 [==============================] - 39s 788us/step - loss: 0.2765 - acc: 0.9016 - val_loss: 0.4961 - val_acc: 0.8548\n",
            "Saved weights_20.hdf5\n"
          ],
          "name": "stdout"
        }
      ]
    }
  ]
}