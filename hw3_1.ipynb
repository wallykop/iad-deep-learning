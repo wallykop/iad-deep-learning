{
  "nbformat": 4,
  "nbformat_minor": 0,
  "metadata": {
    "accelerator": "GPU",
    "colab": {
      "name": "hw3.ipynb",
      "provenance": [],
      "collapsed_sections": [],
      "include_colab_link": true
    },
    "kernelspec": {
      "name": "python3",
      "display_name": "Python 3"
    },
    "language_info": {
      "codemirror_mode": {
        "name": "ipython",
        "version": 3
      },
      "file_extension": ".py",
      "mimetype": "text/x-python",
      "name": "python",
      "nbconvert_exporter": "python",
      "pygments_lexer": "ipython3",
      "version": "3.7.3"
    }
  },
  "cells": [
    {
      "cell_type": "markdown",
      "metadata": {
        "id": "view-in-github",
        "colab_type": "text"
      },
      "source": [
        "<a href=\"https://colab.research.google.com/github/wallykop/iad-deep-learning/blob/master/hw3_1.ipynb\" target=\"_parent\"><img src=\"https://colab.research.google.com/assets/colab-badge.svg\" alt=\"Open In Colab\"/></a>"
      ]
    },
    {
      "cell_type": "markdown",
      "metadata": {
        "colab_type": "text",
        "id": "gO2BchskQWoH"
      },
      "source": [
        "# Домашнее задание 3.\n",
        "\n",
        "`Keras` и сверточные нейронные сети."
      ]
    },
    {
      "cell_type": "code",
      "metadata": {
        "colab_type": "code",
        "id": "WmIuIaLEATMn",
        "outputId": "333d279f-fef2-427c-8ed1-61d63a09bf9f",
        "colab": {
          "base_uri": "https://localhost:8080/",
          "height": 118
        }
      },
      "source": [
        "import tensorflow as tf\n",
        "import keras\n",
        "from keras import backend as K\n",
        "import numpy as np\n",
        "%matplotlib inline\n",
        "import matplotlib.pyplot as plt\n",
        "print(tf.__version__)\n",
        "print(keras.__version__)"
      ],
      "execution_count": 1,
      "outputs": [
        {
          "output_type": "display_data",
          "data": {
            "text/html": [
              "<p style=\"color: red;\">\n",
              "The default version of TensorFlow in Colab will soon switch to TensorFlow 2.x.<br>\n",
              "We recommend you <a href=\"https://www.tensorflow.org/guide/migrate\" target=\"_blank\">upgrade</a> now \n",
              "or ensure your notebook will continue to use TensorFlow 1.x via the <code>%tensorflow_version 1.x</code> magic:\n",
              "<a href=\"https://colab.research.google.com/notebooks/tensorflow_version.ipynb\" target=\"_blank\">more info</a>.</p>\n"
            ],
            "text/plain": [
              "<IPython.core.display.HTML object>"
            ]
          },
          "metadata": {
            "tags": []
          }
        },
        {
          "output_type": "stream",
          "text": [
            "1.15.0\n",
            "2.2.5\n"
          ],
          "name": "stdout"
        },
        {
          "output_type": "stream",
          "text": [
            "Using TensorFlow backend.\n"
          ],
          "name": "stderr"
        }
      ]
    },
    {
      "cell_type": "code",
      "metadata": {
        "colab_type": "code",
        "id": "efsrp4vQfls5",
        "colab": {}
      },
      "source": [
        "def reset_tf_session():\n",
        "    curr_session = tf.get_default_session()\n",
        "    if curr_session is not None:\n",
        "        curr_session.close()\n",
        "    K.clear_session()\n",
        "    config = tf.ConfigProto()\n",
        "    config.gpu_options.allow_growth = True\n",
        "    s = tf.InteractiveSession(config=config)\n",
        "    K.set_session(s)\n",
        "    return s"
      ],
      "execution_count": 0,
      "outputs": []
    },
    {
      "cell_type": "markdown",
      "metadata": {
        "colab_type": "text",
        "id": "HE_SpMQMQm8Y"
      },
      "source": [
        "## Задание 1 — инициализация весов CNN (3 балла).\n",
        "\n",
        "В этом задании нужно будет исследовать, как выбор функции инициализации весов влияет на обучение CNN.\n"
      ]
    },
    {
      "cell_type": "markdown",
      "metadata": {
        "colab_type": "text",
        "id": "oIoAOXkJSwbs"
      },
      "source": [
        "Продолжим работать с датасетом CIFAR-10."
      ]
    },
    {
      "cell_type": "code",
      "metadata": {
        "colab_type": "code",
        "id": "IsuA4kiHA4ff",
        "outputId": "0f89dc1e-0a30-4b4d-9915-1e81a800f902",
        "colab": {
          "base_uri": "https://localhost:8080/",
          "height": 89
        }
      },
      "source": [
        "from keras.datasets import cifar10\n",
        "(x_train, y_train), (x_test, y_test) = cifar10.load_data()\n",
        "\n",
        "NUM_CLASSES = 10\n",
        "cifar10_classes = [\"airplane\", \"automobile\", \"bird\", \"cat\", \"deer\", \n",
        "                   \"dog\", \"frog\", \"horse\", \"ship\", \"truck\"]\n",
        "\n",
        "print(\"Train samples:\", x_train.shape, y_train.shape)\n",
        "print(\"Test samples:\", x_test.shape, y_test.shape)\n",
        "\n",
        "# нормализуем входные данные\n",
        "x_train = x_train / 255 - 0.5\n",
        "x_test = x_test / 255 - 0.5\n",
        "\n",
        "y_train = keras.utils.to_categorical(y_train, 10)\n",
        "y_test = keras.utils.to_categorical(y_test, 10)"
      ],
      "execution_count": 3,
      "outputs": [
        {
          "output_type": "stream",
          "text": [
            "Downloading data from https://www.cs.toronto.edu/~kriz/cifar-10-python.tar.gz\n",
            "170500096/170498071 [==============================] - 11s 0us/step\n",
            "Train samples: (50000, 32, 32, 3) (50000, 1)\n",
            "Test samples: (10000, 32, 32, 3) (10000, 1)\n"
          ],
          "name": "stdout"
        }
      ]
    },
    {
      "cell_type": "code",
      "metadata": {
        "colab_type": "code",
        "id": "xNl2e8LeftcC",
        "colab": {}
      },
      "source": [
        "from keras.models import Sequential\n",
        "from keras.layers import Conv2D, MaxPooling2D, Flatten, Dense, Activation, Dropout\n",
        "from keras.layers.advanced_activations import LeakyReLU\n",
        "from keras.models import load_model"
      ],
      "execution_count": 0,
      "outputs": []
    },
    {
      "cell_type": "markdown",
      "metadata": {
        "colab_type": "text",
        "id": "f2vQIUE3UeiE"
      },
      "source": [
        "Определим функцию `fit_model` с архитектурой архитектура CNN.\n",
        "\n",
        "Метод `model.fit` возвращает объект класса `keras.callbacks.History()` — это колбэк, который автоматически применяется ко всем моделям и логирует много чего полезного. В частности логируются значения функции потерь на каждой итерации."
      ]
    },
    {
      "cell_type": "markdown",
      "metadata": {
        "colab_type": "text",
        "id": "dDslR6vNZry8"
      },
      "source": [
        "**Задание 1.1** (0.5 балла) Добавьте в архитектуру модели инициализацию весов для тех слоев, где она необходима.\n"
      ]
    },
    {
      "cell_type": "code",
      "metadata": {
        "colab_type": "code",
        "id": "2_Lu7SO3CMid",
        "colab": {}
      },
      "source": [
        "def fit_model(initializer='glorot_normal'):\n",
        "    s = reset_tf_session()  \n",
        "    INIT_LR = 5e-3\n",
        "    BATCH_SIZE = 32\n",
        "    EPOCHS = 10\n",
        "   \n",
        "    def lr_scheduler(epoch):\n",
        "        return INIT_LR * 0.9 ** epoch  \n",
        "\n",
        "    ### YOUR CODE HERE \n",
        "    # kernel_initializer=initializer для тех слоев, которым нужна инициализация весов\n",
        "    model = Sequential()\n",
        "    model.add(Conv2D(filters=16, padding='same', kernel_size=(3,3), input_shape=(32,32,3), kernel_initializer=initializer))\n",
        "    model.add(LeakyReLU(0.1))\n",
        "    model.add(Conv2D(filters=64, padding='same', kernel_size=(3,3), kernel_initializer=initializer))  \n",
        "    model.add(LeakyReLU(0.1))\n",
        "    model.add(MaxPooling2D(pool_size=(2,2), padding='same'))\n",
        "    model.add(Dropout(0.25))\n",
        "    model.add(Flatten())\n",
        "    model.add(Dense(40, kernel_initializer=initializer))\n",
        "    model.add(LeakyReLU(0.1))\n",
        "    model.add(Dropout(0.5))    \n",
        "    model.add(Dense(10))\n",
        "    model.add(Activation(\"softmax\"))\n",
        "\n",
        "\n",
        "    model.compile(\n",
        "        loss='categorical_crossentropy',\n",
        "        optimizer=keras.optimizers.adamax(lr=INIT_LR),\n",
        "        metrics=['accuracy']\n",
        "    )\n",
        "  \n",
        "    history = model.fit(\n",
        "        x_train, y_train,\n",
        "        batch_size=BATCH_SIZE,\n",
        "        epochs=EPOCHS,\n",
        "        callbacks=[keras.callbacks.LearningRateScheduler(lr_scheduler)],                   \n",
        "        shuffle=True,\n",
        "        verbose=0,\n",
        "        initial_epoch=0    \n",
        "    )\n",
        "\n",
        "    # Возвращаем объект класса keras.callbacks.History\n",
        "    return history\n"
      ],
      "execution_count": 0,
      "outputs": []
    },
    {
      "cell_type": "markdown",
      "metadata": {
        "colab_type": "text",
        "id": "bYkZkghfT4uN"
      },
      "source": [
        "**Задание 1.2** (1.5 балла). Обучите модель с разными [функциями инициализации](https://keras.io/initializers/) весов:\n",
        "* `Zeros` — веса инициализируются нулями\n",
        "* `Constant=0.05` — веса инициализируются константой 0.05\n",
        "* `RandomUniform` — веса генерируются равномерно из отрезка [-0.05, 0.05]\n",
        "* `glorot_normal` — Xavier initializer из лекций\n",
        "* `lecun_uniform`\n",
        "\n",
        "Добавьте в список `losses` значения функции потерь для каждой функции инициализации, их можно достать из `History`\n",
        "\n"
      ]
    },
    {
      "cell_type": "code",
      "metadata": {
        "colab_type": "code",
        "id": "dTieYmgUmQ8G",
        "colab": {}
      },
      "source": [
        "losses = []\n",
        "\n",
        "losses.append(fit_model(keras.initializers.Zeros()).history['loss'])\n",
        "losses.append(fit_model(keras.initializers.constant(value = 0.05)).history['loss'])\n",
        "losses.append(fit_model(keras.initializers.random_uniform(-0.05, 0.05)).history['loss'])\n",
        "losses.append(fit_model().history['loss'])\n",
        "losses.append(fit_model(keras.initializers.lecun_uniform()).history['loss'])"
      ],
      "execution_count": 0,
      "outputs": []
    },
    {
      "cell_type": "code",
      "metadata": {
        "id": "opnAMTLafEod",
        "colab_type": "code",
        "outputId": "fa5bcb72-cd24-47a2-e4fe-491fbf12da9b",
        "colab": {
          "base_uri": "https://localhost:8080/",
          "height": 917
        }
      },
      "source": [
        "losses"
      ],
      "execution_count": 0,
      "outputs": [
        {
          "output_type": "execute_result",
          "data": {
            "text/plain": [
              "[[2.3030023341369628,\n",
              "  2.3029882539367676,\n",
              "  2.3029243270111084,\n",
              "  2.302886666717529,\n",
              "  2.302938383026123,\n",
              "  2.3027837757873537,\n",
              "  2.3028022551727294,\n",
              "  2.302804115600586,\n",
              "  2.302805783691406,\n",
              "  2.302728477020264],\n",
              " [2.7258832611083985,\n",
              "  2.0088204623413084,\n",
              "  1.7361099803161621,\n",
              "  1.5653727067184449,\n",
              "  1.4638671482849122,\n",
              "  1.3755998947143555,\n",
              "  1.303909610557556,\n",
              "  1.2419388565444947,\n",
              "  1.1909045807266236,\n",
              "  1.153439089164734],\n",
              " [1.5568914690017701,\n",
              "  1.2443780068969728,\n",
              "  1.1335640732192993,\n",
              "  1.0541191687965392,\n",
              "  0.989559116153717,\n",
              "  0.9445323751068115,\n",
              "  0.9039822071456909,\n",
              "  0.8679016119003296,\n",
              "  0.8382337683868408,\n",
              "  0.8090157961082458],\n",
              " [1.4983693269729614,\n",
              "  1.1775794541549682,\n",
              "  1.0668438763427734,\n",
              "  0.9908705131149292,\n",
              "  0.929420674533844,\n",
              "  0.8807885860824585,\n",
              "  0.8365703752136231,\n",
              "  0.8044158706665039,\n",
              "  0.768353724899292,\n",
              "  0.7457570077705383],\n",
              " [1.482921727142334,\n",
              "  1.1658392739868164,\n",
              "  1.0522454459381103,\n",
              "  0.9689599716186523,\n",
              "  0.9069279641532898,\n",
              "  0.8613294857025147,\n",
              "  0.8138451818275452,\n",
              "  0.7794717638206482,\n",
              "  0.7504262161636353,\n",
              "  0.7195395533370972]]"
            ]
          },
          "metadata": {
            "tags": []
          },
          "execution_count": 92
        }
      ]
    },
    {
      "cell_type": "markdown",
      "metadata": {
        "colab_type": "text",
        "id": "wsk8bCEPcOav"
      },
      "source": [
        "**Задание 1.3** (1 балла). Постройте графики зависимости функций потерь от номера итерации, подпишите их. Прокомментируйте результат."
      ]
    },
    {
      "cell_type": "code",
      "metadata": {
        "colab_type": "code",
        "id": "3yqBZIYEAPWZ",
        "outputId": "1f56e474-ed89-47b4-82de-5dca17ee7324",
        "colab": {
          "base_uri": "https://localhost:8080/",
          "height": 881
        }
      },
      "source": [
        "label = ['zeros', 'constant', 'randomuniform', 'glorot_normal', 'lecun_uniform']\n",
        "\n",
        "plt.figure(figsize=(15,15))\n",
        "\n",
        "for i in range(0, len(losses)):\n",
        "  plt.plot(range(1, len(losses[i]) + 1), losses[i], label=label[i])\n",
        "  \n",
        "plt.legend()\n"
      ],
      "execution_count": 0,
      "outputs": [
        {
          "output_type": "execute_result",
          "data": {
            "text/plain": [
              "<matplotlib.legend.Legend at 0x7f626fbda710>"
            ]
          },
          "metadata": {
            "tags": []
          },
          "execution_count": 94
        },
        {
          "output_type": "display_data",
          "data": {
            "image/png": "[encoded data removed]",
            "text/plain": [
              "<Figure size 1080x1080 with 1 Axes>"
            ]
          },
          "metadata": {
            "tags": []
          }
        }
      ]
    },
    {
      "cell_type": "markdown",
      "metadata": {
        "id": "VF0Sk8HPwdTY",
        "colab_type": "text"
      },
      "source": [
        "Мы видим, что если задавать нулевую инициализацию на веса, то наш лосс не уменьшается, также мы видим, что если задавать в качестве инициализации константу, то лосс уменьшается, однако при применении остальных 3 методов мы можем заметить явное уменьшение лосса и более точные прогнозы."
      ]
    },
    {
      "cell_type": "markdown",
      "metadata": {
        "colab_type": "text",
        "id": "nellCcusBAZ8"
      },
      "source": [
        "## Задание 2 — CNN для CIFAR-10 с сохранением весов модели (7 баллов)\n",
        "\n",
        "В этом задании мы модифицируем нейросеть с семинара, чтобы она достигала большего значения `accuracy` и научимся сохранять веса модели в файл во время обучения. Можно использовать только те же слои, которые использовались на семинаре: `Conv2D, MaxPooling2D,  LeakyReLU, Dropout, Flatten, Dense`."
      ]
    },
    {
      "cell_type": "markdown",
      "metadata": {
        "colab_type": "text",
        "id": "xuVF3c2qJwyx"
      },
      "source": [
        "**Задание 2.1** (4 балла). Подберите архитектуру модели так, чтобы значение `accuracy` на тестовой выборке было не менее 85."
      ]
    },
    {
      "cell_type": "code",
      "metadata": {
        "colab_type": "code",
        "id": "syKDJPUdCtoI",
        "colab": {}
      },
      "source": [
        "def make_model():    \n",
        "\n",
        "    model = Sequential()\n",
        "    model.add(Conv2D(32, padding='same', kernel_size=(3,3), input_shape=(32,32,3), kernel_initializer='glorot_normal'))\n",
        "    model.add(LeakyReLU(0.1))\n",
        "    model.add(Conv2D(32, padding='same', kernel_size=(3,3), kernel_initializer='glorot_normal'))\n",
        "    model.add(LeakyReLU(0.1))\n",
        "    model.add(MaxPooling2D((2,2)))\n",
        "    model.add(Dropout(0.2))\n",
        "    \n",
        "    model.add(Conv2D(64, padding='same', kernel_size=(3,3), kernel_initializer='glorot_normal'))\n",
        "    model.add(LeakyReLU(0.1))\n",
        "    model.add(Conv2D(64, padding='same', kernel_size=(3,3), kernel_initializer='glorot_normal'))\n",
        "    model.add(LeakyReLU(0.1))\n",
        "    model.add(MaxPooling2D((2,2)))\n",
        "    model.add(Dropout(0.3))\n",
        "\n",
        "    model.add(Conv2D(128, padding='same', kernel_size=(3,3), kernel_initializer='glorot_normal'))\n",
        "    model.add(LeakyReLU(0.1))\n",
        "    model.add(Conv2D(128, padding='same', kernel_size=(3,3), kernel_initializer='glorot_normal'))\n",
        "    model.add(LeakyReLU(0.1))\n",
        "    model.add(MaxPooling2D((2,2)))\n",
        "    model.add(Dropout(0.4))\n",
        "\n",
        "    model.add(Flatten())\n",
        "    model.add(Dense(1024, kernel_initializer='glorot_normal'))\n",
        "    model.add(LeakyReLU(0.1))\n",
        "    model.add(Dropout(0.5))\n",
        "    model.add(Dense(10))\n",
        "    model.add(Activation('softmax'))\n",
        "\n",
        "    return model\n",
        "        "
      ],
      "execution_count": 0,
      "outputs": []
    },
    {
      "cell_type": "code",
      "metadata": {
        "colab_type": "code",
        "id": "MoZifjkgFdcg",
        "outputId": "282edd88-8a5c-4875-bbc5-fe4eae0d7862",
        "colab": {
          "base_uri": "https://localhost:8080/",
          "height": 1000
        }
      },
      "source": [
        "s = reset_tf_session()\n",
        "model = make_model()\n",
        "model.summary()"
      ],
      "execution_count": 37,
      "outputs": [
        {
          "output_type": "stream",
          "text": [
            "Model: \"sequential_1\"\n",
            "_________________________________________________________________\n",
            "Layer (type)                 Output Shape              Param #   \n",
            "=================================================================\n",
            "conv2d_1 (Conv2D)            (None, 32, 32, 32)        896       \n",
            "_________________________________________________________________\n",
            "leaky_re_lu_1 (LeakyReLU)    (None, 32, 32, 32)        0         \n",
            "_________________________________________________________________\n",
            "conv2d_2 (Conv2D)            (None, 32, 32, 32)        9248      \n",
            "_________________________________________________________________\n",
            "leaky_re_lu_2 (LeakyReLU)    (None, 32, 32, 32)        0         \n",
            "_________________________________________________________________\n",
            "max_pooling2d_1 (MaxPooling2 (None, 16, 16, 32)        0         \n",
            "_________________________________________________________________\n",
            "dropout_1 (Dropout)          (None, 16, 16, 32)        0         \n",
            "_________________________________________________________________\n",
            "conv2d_3 (Conv2D)            (None, 16, 16, 64)        18496     \n",
            "_________________________________________________________________\n",
            "leaky_re_lu_3 (LeakyReLU)    (None, 16, 16, 64)        0         \n",
            "_________________________________________________________________\n",
            "conv2d_4 (Conv2D)            (None, 16, 16, 64)        36928     \n",
            "_________________________________________________________________\n",
            "leaky_re_lu_4 (LeakyReLU)    (None, 16, 16, 64)        0         \n",
            "_________________________________________________________________\n",
            "max_pooling2d_2 (MaxPooling2 (None, 8, 8, 64)          0         \n",
            "_________________________________________________________________\n",
            "dropout_2 (Dropout)          (None, 8, 8, 64)          0         \n",
            "_________________________________________________________________\n",
            "conv2d_5 (Conv2D)            (None, 8, 8, 128)         73856     \n",
            "_________________________________________________________________\n",
            "leaky_re_lu_5 (LeakyReLU)    (None, 8, 8, 128)         0         \n",
            "_________________________________________________________________\n",
            "conv2d_6 (Conv2D)            (None, 8, 8, 128)         147584    \n",
            "_________________________________________________________________\n",
            "leaky_re_lu_6 (LeakyReLU)    (None, 8, 8, 128)         0         \n",
            "_________________________________________________________________\n",
            "max_pooling2d_3 (MaxPooling2 (None, 4, 4, 128)         0         \n",
            "_________________________________________________________________\n",
            "dropout_3 (Dropout)          (None, 4, 4, 128)         0         \n",
            "_________________________________________________________________\n",
            "flatten_1 (Flatten)          (None, 2048)              0         \n",
            "_________________________________________________________________\n",
            "dense_1 (Dense)              (None, 1024)              2098176   \n",
            "_________________________________________________________________\n",
            "leaky_re_lu_7 (LeakyReLU)    (None, 1024)              0         \n",
            "_________________________________________________________________\n",
            "dropout_4 (Dropout)          (None, 1024)              0         \n",
            "_________________________________________________________________\n",
            "dense_2 (Dense)              (None, 10)                10250     \n",
            "_________________________________________________________________\n",
            "activation_1 (Activation)    (None, 10)                0         \n",
            "=================================================================\n",
            "Total params: 2,395,434\n",
            "Trainable params: 2,395,434\n",
            "Non-trainable params: 0\n",
            "_________________________________________________________________\n"
          ],
          "name": "stdout"
        }
      ]
    },
    {
      "cell_type": "markdown",
      "metadata": {
        "colab_type": "text",
        "id": "JJLpZQhJGBqL"
      },
      "source": [
        "**Задание 2.2** (2 балла). Реализуйте колбэк, который сохраняет модель в `.hdf5` файл и печатает имя файла, в который была сохранена модель. Используйте функцию `model_save`. Строка с именем файла имеет вид `<name>_{0:02d}.hdf5`, отформатируйте ее так, чтобы в имени строки фигурировал номер эпохи."
      ]
    },
    {
      "cell_type": "code",
      "metadata": {
        "colab_type": "code",
        "id": "xYjUeuDXGBII",
        "colab": {}
      },
      "source": [
        "from keras.models import save_model, load_model\n",
        "\n",
        "class ModelSaveCallback(keras.callbacks.Callback):\n",
        "\n",
        "    def __init__(self, file_name):\n",
        "        super(ModelSaveCallback, self).__init__()\n",
        "        self.file_name = file_name\n",
        "\n",
        "    def on_epoch_end(self, epoch, logs=None): \n",
        "      epoch += 1\n",
        "      save_model(model,\n",
        "                 f\"weights_{epoch:02d}.hdf5\")\n",
        "      print(f\"Saved weights_{epoch:02d}.hdf5\")"
      ],
      "execution_count": 0,
      "outputs": []
    },
    {
      "cell_type": "markdown",
      "metadata": {
        "colab_type": "text",
        "id": "Svrwkh8ALpHa"
      },
      "source": [
        "**Задание 2.3** (1 балл). Реализуйте функцию, которая с помощью `load_model` будет загружать модель из файла."
      ]
    },
    {
      "cell_type": "code",
      "metadata": {
        "colab_type": "code",
        "id": "fVD0P5V7M00C",
        "colab": {}
      },
      "source": [
        "def load_from_file(model_filename, last_epoch):\n",
        "  model = load_model(f\"weights_{last_epoch:02d}.hdf5\")\n",
        "  return model\n"
      ],
      "execution_count": 0,
      "outputs": []
    },
    {
      "cell_type": "code",
      "metadata": {
        "colab_type": "code",
        "id": "zOLb6flQFjCw",
        "outputId": "ae7330a4-85ef-4863-ea4f-191bc5ca2bfe",
        "colab": {
          "base_uri": "https://localhost:8080/",
          "height": 1000
        }
      },
      "source": [
        "INIT_LR = 5e-3\n",
        "BATCH_SIZE = 32\n",
        "EPOCHS = 20\n",
        "\n",
        "model_filename = 'weights_{0:02d}.hdf5'\n",
        "\n",
        "s = reset_tf_session()\n",
        "\n",
        "model = make_model()\n",
        "\n",
        "model.compile(\n",
        "    loss='categorical_crossentropy',\n",
        "    optimizer=keras.optimizers.adamax(lr=INIT_LR),\n",
        "    metrics=['accuracy']\n",
        ")\n",
        "\n",
        "def lr_scheduler(epoch):\n",
        "    return INIT_LR * 0.9 ** epoch \n",
        "\n",
        "# в случае, если обучение было прервано, можно загрузить модель из файла, \n",
        "# соответствующего последней эпохе, за которую есть сохраненные веса\n",
        "# model = load_from_file(model_filename, 2)\n",
        "  \n",
        "history = model.fit(\n",
        "    x_train, y_train,\n",
        "    batch_size=BATCH_SIZE,\n",
        "    epochs=EPOCHS,\n",
        "    callbacks=[keras.callbacks.LearningRateScheduler(lr_scheduler), \n",
        "               # не забудьте передать сюда ModelSaveCallback\n",
        "               ModelSaveCallback(model_filename)\n",
        "              ],\n",
        "    validation_data=(x_test, y_test),\n",
        "    shuffle=True,\n",
        "    verbose=1,\n",
        "    initial_epoch=0    \n",
        ")\n",
        "  "
      ],
      "execution_count": 40,
      "outputs": [
        {
          "output_type": "stream",
          "text": [
            "Train on 50000 samples, validate on 10000 samples\n",
            "Epoch 1/20\n",
            "50000/50000 [==============================] - 45s 890us/step - loss: 1.4266 - acc: 0.4784 - val_loss: 0.9653 - val_acc: 0.6578\n",
            "Saved weights_01.hdf5\n",
            "Epoch 2/20\n",
            "50000/50000 [==============================] - 43s 855us/step - loss: 0.9695 - acc: 0.6569 - val_loss: 0.8126 - val_acc: 0.7183\n",
            "Saved weights_02.hdf5\n",
            "Epoch 3/20\n",
            "50000/50000 [==============================] - 41s 814us/step - loss: 0.8265 - acc: 0.7136 - val_loss: 0.7907 - val_acc: 0.7299\n",
            "Saved weights_03.hdf5\n",
            "Epoch 4/20\n",
            "50000/50000 [==============================] - 41s 811us/step - loss: 0.7360 - acc: 0.7421 - val_loss: 0.6348 - val_acc: 0.7846\n",
            "Saved weights_04.hdf5\n",
            "Epoch 5/20\n",
            "50000/50000 [==============================] - 39s 785us/step - loss: 0.6667 - acc: 0.7677 - val_loss: 0.6346 - val_acc: 0.7804\n",
            "Saved weights_05.hdf5\n",
            "Epoch 6/20\n",
            "50000/50000 [==============================] - 39s 777us/step - loss: 0.6247 - acc: 0.7817 - val_loss: 0.5670 - val_acc: 0.8100\n",
            "Saved weights_06.hdf5\n",
            "Epoch 7/20\n",
            "50000/50000 [==============================] - 39s 779us/step - loss: 0.5675 - acc: 0.8028 - val_loss: 0.5521 - val_acc: 0.8146\n",
            "Saved weights_07.hdf5\n",
            "Epoch 8/20\n",
            "50000/50000 [==============================] - 39s 778us/step - loss: 0.5355 - acc: 0.8156 - val_loss: 0.5511 - val_acc: 0.8228\n",
            "Saved weights_08.hdf5\n",
            "Epoch 9/20\n",
            "50000/50000 [==============================] - 39s 778us/step - loss: 0.5001 - acc: 0.8264 - val_loss: 0.5622 - val_acc: 0.8163\n",
            "Saved weights_09.hdf5\n",
            "Epoch 10/20\n",
            "50000/50000 [==============================] - 39s 782us/step - loss: 0.4648 - acc: 0.8385 - val_loss: 0.5383 - val_acc: 0.8305\n",
            "Saved weights_10.hdf5\n",
            "Epoch 11/20\n",
            "50000/50000 [==============================] - 39s 779us/step - loss: 0.4372 - acc: 0.8476 - val_loss: 0.4982 - val_acc: 0.8388\n",
            "Saved weights_11.hdf5\n",
            "Epoch 12/20\n",
            "50000/50000 [==============================] - 39s 777us/step - loss: 0.4078 - acc: 0.8579 - val_loss: 0.5295 - val_acc: 0.8377\n",
            "Saved weights_12.hdf5\n",
            "Epoch 13/20\n",
            "50000/50000 [==============================] - 39s 777us/step - loss: 0.3865 - acc: 0.8647 - val_loss: 0.5139 - val_acc: 0.8390\n",
            "Saved weights_13.hdf5\n",
            "Epoch 14/20\n",
            "50000/50000 [==============================] - 39s 777us/step - loss: 0.3633 - acc: 0.8719 - val_loss: 0.5129 - val_acc: 0.8478\n",
            "Saved weights_14.hdf5\n",
            "Epoch 15/20\n",
            "50000/50000 [==============================] - 39s 777us/step - loss: 0.3445 - acc: 0.8789 - val_loss: 0.5013 - val_acc: 0.8429\n",
            "Saved weights_15.hdf5\n",
            "Epoch 16/20\n",
            "50000/50000 [==============================] - 39s 778us/step - loss: 0.3272 - acc: 0.8860 - val_loss: 0.4893 - val_acc: 0.8479\n",
            "Saved weights_16.hdf5\n",
            "Epoch 17/20\n",
            "50000/50000 [==============================] - 39s 776us/step - loss: 0.3154 - acc: 0.8883 - val_loss: 0.4734 - val_acc: 0.8516\n",
            "Saved weights_17.hdf5\n",
            "Epoch 18/20\n",
            "50000/50000 [==============================] - 39s 783us/step - loss: 0.3024 - acc: 0.8933 - val_loss: 0.4931 - val_acc: 0.8548\n",
            "Saved weights_18.hdf5\n",
            "Epoch 19/20\n",
            "50000/50000 [==============================] - 39s 781us/step - loss: 0.2901 - acc: 0.8978 - val_loss: 0.4922 - val_acc: 0.8541\n",
            "Saved weights_19.hdf5\n",
            "Epoch 20/20\n",
            "50000/50000 [==============================] - 39s 778us/step - loss: 0.2815 - acc: 0.9004 - val_loss: 0.5094 - val_acc: 0.8556\n",
            "Saved weights_20.hdf5\n"
          ],
          "name": "stdout"
        }
      ]
    }
  ]
}